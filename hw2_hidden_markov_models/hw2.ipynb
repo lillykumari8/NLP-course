{
 "cells": [
  {
   "cell_type": "code",
   "execution_count": 1,
   "metadata": {},
   "outputs": [],
   "source": [
    "## loading required libraries\n",
    "import math\n",
    "import re\n",
    "import sys\n",
    "import json\n",
    "import itertools\n",
    "import string\n",
    "import pandas as pd\n",
    "import numpy as np\n",
    "from collections import Counter\n",
    "import matplotlib.pyplot as plt\n",
    "from sklearn.metrics import accuracy_score, confusion_matrix"
   ]
  },
  {
   "cell_type": "code",
   "execution_count": 73,
   "metadata": {},
   "outputs": [],
   "source": [
    "# Global variables\n",
    "START_TOKEN = \"<start>\"\n",
    "STOP_TOKEN = \"<stop>\"\n",
    "UNK_TOKEN = '<unk>'\n",
    "\n",
    "URL_TOKEN = \"<url>\"\n",
    "RT_TOKEN = \"<rt>\"\n",
    "MENTION_TOKEN = \"<mention>\"\n",
    "HASHTAG_TOKEN = \"<hashtag>\"\n",
    "NUMBER_TOKEN = \"<number>\"\n",
    "EMOTICON_TOKEN = \"<emoticon>\"\n",
    "SMILEY_TOKEN = \"<smiley>\""
   ]
  },
  {
   "cell_type": "code",
   "execution_count": 74,
   "metadata": {},
   "outputs": [],
   "source": [
    "# loading data into a list which contains tweets as tuple objects\n",
    "def read_data(file_path):\n",
    "    tweets = []\n",
    "    with open(file_path, 'r') as f:\n",
    "        for line in f:\n",
    "            tweet = ()\n",
    "            tweet += tuple(json.loads(line))\n",
    "            tweets.append(tweet)\n",
    "    return tweets"
   ]
  },
  {
   "cell_type": "code",
   "execution_count": 75,
   "metadata": {},
   "outputs": [],
   "source": [
    "train_tweets = read_data('/home/lilly/cse517/hw2/hw2-data/CSE517_HW_HMM_Data/twt.train.json')\n",
    "dev_tweets = read_data('/home/lilly/cse517/hw2/hw2-data/CSE517_HW_HMM_Data/twt.dev.json')\n",
    "test_tweets = read_data('/home/lilly/cse517/hw2/hw2-data/CSE517_HW_HMM_Data/twt.test.json')"
   ]
  },
  {
   "cell_type": "code",
   "execution_count": 76,
   "metadata": {},
   "outputs": [
    {
     "name": "stdout",
     "output_type": "stream",
     "text": [
      "Length of tweets in training data = 50000\n",
      "Length of tweets in dev data = 5000\n",
      "Length of tweets in test data = 5000\n",
      "\n",
      "\n",
      "Average length of tweet in training data = 14.5955\n",
      "Average length of tweet in dev data = 14.6978\n",
      "Average length of tweet in test data = 14.7046\n"
     ]
    }
   ],
   "source": [
    "print (\"Length of tweets in training data =\", len(train_tweets))\n",
    "print (\"Length of tweets in dev data =\", len(dev_tweets))\n",
    "print (\"Length of tweets in test data =\", len(test_tweets))\n",
    "print (\"\\n\")\n",
    "print (\"Average length of tweet in training data =\", np.mean([len(line) for line in train_tweets]))\n",
    "print (\"Average length of tweet in dev data =\", np.mean([len(line) for line in dev_tweets]))\n",
    "print (\"Average length of tweet in test data =\", np.mean([len(line) for line in test_tweets]))"
   ]
  },
  {
   "cell_type": "code",
   "execution_count": 77,
   "metadata": {},
   "outputs": [],
   "source": [
    "pairs = []"
   ]
  },
  {
   "cell_type": "code",
   "execution_count": 78,
   "metadata": {},
   "outputs": [],
   "source": [
    "# extracting word vocabulary, tag vocabulary and word-tag pair dict\n",
    "def get_vocab_and_POStags(tweets, pairs):\n",
    "    vocab_dict = {}\n",
    "    tags_dict = {}\n",
    "    for tweet in tweets:\n",
    "        for pair in tweet:\n",
    "            word = pair[0]\n",
    "            # .encode('ascii', 'ignore').decode(\"utf-8\")\n",
    "            vocab_dict[word] = vocab_dict.get(word, 0) + 1\n",
    "            tags_dict[pair[1]] = tags_dict.get(pair[1], 0) + 1\n",
    "            pairs.append(tuple(pair))\n",
    "    pair_dict = Counter(pairs)\n",
    "    return vocab_dict, tags_dict, pair_dict"
   ]
  },
  {
   "cell_type": "code",
   "execution_count": 79,
   "metadata": {
    "scrolled": true
   },
   "outputs": [],
   "source": [
    "train_vocab_dict, train_tags_dict, pair_dict = get_vocab_and_POStags(train_tweets, pairs)"
   ]
  },
  {
   "cell_type": "code",
   "execution_count": 80,
   "metadata": {},
   "outputs": [
    {
     "name": "stdout",
     "output_type": "stream",
     "text": [
      "Training data stats:\n",
      "count of unique words in Vocabulary = 128006\n",
      "count of unique tags = 24\n",
      "count of unique word-tag pair = 135871\n"
     ]
    }
   ],
   "source": [
    "print (\"Training data stats:\")\n",
    "print (\"count of unique words in Vocabulary =\", len(train_vocab_dict.keys()))\n",
    "print (\"count of unique tags =\", len(train_tags_dict.keys()))\n",
    "print (\"count of unique word-tag pair =\", len(pair_dict.keys()))"
   ]
  },
  {
   "cell_type": "code",
   "execution_count": 81,
   "metadata": {},
   "outputs": [
    {
     "name": "stdout",
     "output_type": "stream",
     "text": [
      "dict_keys(['~', '@', 'L', 'R', 'A', ',', 'O', 'V', 'P', 'N', '$', 'U', '#', 'D', '^', '&', 'T', '!', 'X', 'G', 'E', 'Z', 'S', 'Y'])\n"
     ]
    }
   ],
   "source": [
    "print (train_tags_dict.keys())"
   ]
  },
  {
   "cell_type": "code",
   "execution_count": 82,
   "metadata": {},
   "outputs": [],
   "source": [
    "dev_vocab_dict, dev_tags_dict, pair_dict = get_vocab_and_POStags(dev_tweets, pairs)"
   ]
  },
  {
   "cell_type": "code",
   "execution_count": 234,
   "metadata": {},
   "outputs": [
    {
     "name": "stdout",
     "output_type": "stream",
     "text": [
      "Dev data stats:\n",
      "count of unique words in Vocabulary = 21429\n",
      "count of unique tags = 24\n",
      "count of unique word-tag pair (overall) = 146114\n"
     ]
    }
   ],
   "source": [
    "print (\"Dev data stats:\")\n",
    "print (\"count of unique words in Vocabulary =\", len(dev_vocab_dict.keys()))\n",
    "print (\"count of unique tags =\", len(dev_tags_dict.keys()))\n",
    "print (\"count of unique word-tag pair (overall) =\", len(pair_dict.keys()))"
   ]
  },
  {
   "cell_type": "code",
   "execution_count": 84,
   "metadata": {},
   "outputs": [],
   "source": [
    "'''Need to deal with the following:\n",
    "* HASHTAG\n",
    "* MENTION\n",
    "* URL\n",
    "* NUMBERS not in HASH\n",
    "* EMOJIS\n",
    "* SMILEYS\n",
    "* RT (retweet)\n",
    "'''\n",
    "# https://stackoverflow.com/questions/26568722/remove-unicode-emoji-using-re-in-python#26568779\n",
    "\n",
    "RT_REGEX = re.compile(\"^RT\")\n",
    "MENTION_REGEX = re.compile(r\"(@[a-zA-Z0-9_]+)\")\n",
    "HASHTAG_REGEX = re.compile(r\"(#[\\w\\d]+)\")\n",
    "NUMBER_REGEX = re.compile(r\"(^|\\s)(\\-?\\d+(?:\\.\\d)*|\\d+)\")\n",
    "URL_REGEX = re.compile(r'(?i)\\b((?:https?://|www\\d{0,3}[.]|[a-z0-9.\\-]+[.][a-z]{2,4}/)(?:[^\\s()<>]+|\\(([^\\s()<>]+|(\\([^\\s()<>]+\\)))*\\))+(?:\\(([^\\s()<>]+|(\\([^\\s()<>]+\\)))*\\)|[^\\s`!()\\[\\]{};:\\'\".,<>?\\xab\\xbb\\u201c\\u201d\\u2018\\u2019]))')\n",
    "\n",
    "try:\n",
    "    # Wide UCS-4 build\n",
    "    EMOTICON_REGEX = re.compile(u'['\n",
    "        u'\\U0001F300-\\U0001F64F'\n",
    "        u'\\U0001F680-\\U0001F6FF'\n",
    "        u'\\u2600-\\u26FF\\u2700-\\u27BF]+', \n",
    "        re.UNICODE)\n",
    "except re.error:\n",
    "    # Narrow UCS-2 build\n",
    "    EMOTICON_REGEX = re.compile(u'('\n",
    "        u'\\ud83c[\\udf00-\\udfff]|'\n",
    "        u'\\ud83d[\\udc00-\\ude4f\\ude80-\\udeff]|'\n",
    "        u'[\\u2600-\\u26FF\\u2700-\\u27BF])+', \n",
    "        re.UNICODE)\n",
    "    \n",
    "SMILEY_REGEX = re.compile(r\"(?:X|:|;|=)(?:-)?(?:\\)|\\(|O|D|P|S){1,}\", re.IGNORECASE)"
   ]
  },
  {
   "cell_type": "code",
   "execution_count": 65,
   "metadata": {},
   "outputs": [
    {
     "name": "stdout",
     "output_type": "stream",
     "text": [
      "3279\n",
      "3156\n"
     ]
    }
   ],
   "source": [
    "dev_train_mismatch = {}\n",
    "for w, v in dev_vocab_dict.items():\n",
    "    if w not in train_vocab_dict.keys():\n",
    "        dev_train_mismatch[w] = v\n",
    "        \n",
    "print (sum(dev_train_mismatch.values()))\n",
    "print (len(dev_train_mismatch.keys()))"
   ]
  },
  {
   "cell_type": "code",
   "execution_count": 66,
   "metadata": {},
   "outputs": [
    {
     "data": {
      "text/plain": [
       "729775"
      ]
     },
     "execution_count": 66,
     "metadata": {},
     "output_type": "execute_result"
    }
   ],
   "source": [
    "train_vocabu = pd.DataFrame(list(train_vocab_dict.items()), columns=['word', 'count'])\n",
    "train_vocabu['count'].sum()"
   ]
  },
  {
   "cell_type": "code",
   "execution_count": 129,
   "metadata": {},
   "outputs": [
    {
     "name": "stdout",
     "output_type": "stream",
     "text": [
      "Training Vocab Coverage at 1 = 28.242766232474892\n",
      "Training Corpus Coverage at 1 = 92.08893151998903\n",
      "Dev Vocab Coverage at 1 = 53.214450220438245\n",
      "Dev Corpus Coverage at 1 = 89.95631999346841\n",
      "\n",
      "\n",
      "Training Vocab Coverage at 2 = 18.46475091975738\n",
      "Training Corpus Coverage at 2 = 89.9329245315337\n",
      "Dev Vocab Coverage at 2 = 47.13430282292558\n",
      "Dev Corpus Coverage at 2 = 88.54114221175958\n",
      "\n",
      "\n",
      "Training Vocab Coverage at 3 = 14.141891220045743\n",
      "Training Corpus Coverage at 3 = 88.50316878489946\n",
      "Dev Vocab Coverage at 3 = 42.811081134434424\n",
      "Dev Corpus Coverage at 3 = 87.481119623345\n",
      "\n",
      "\n",
      "Training Vocab Coverage at 4 = 11.60510092472904\n",
      "Training Corpus Coverage at 4 = 87.38446781542257\n",
      "Dev Vocab Coverage at 4 = 39.231427255379344\n",
      "Dev Corpus Coverage at 4 = 86.56941855243642\n",
      "\n",
      "\n",
      "Training Vocab Coverage at 5 = 9.861290643332998\n",
      "Training Corpus Coverage at 5 = 86.42321263403103\n",
      "Dev Vocab Coverage at 5 = 36.15187208001579\n",
      "Dev Corpus Coverage at 5 = 85.71214739620896\n",
      "\n",
      "\n",
      "Training Vocab Coverage at 6 = 8.558715322660838\n",
      "Training Corpus Coverage at 6 = 85.56157719845157\n",
      "Dev Vocab Coverage at 6 = 33.355267487004014\n",
      "Dev Corpus Coverage at 6 = 84.93788185987019\n",
      "\n",
      "\n",
      "Training Vocab Coverage at 7 = 7.678731231977731\n",
      "Training Corpus Coverage at 7 = 84.88246377308074\n",
      "Dev Vocab Coverage at 7 = 31.295650457327106\n",
      "Dev Corpus Coverage at 7 = 84.3350705547769\n",
      "\n",
      "\n",
      "Training Vocab Coverage at 8 = 6.929253256438306\n",
      "Training Corpus Coverage at 8 = 84.22143811448734\n",
      "Dev Vocab Coverage at 8 = 29.44660130288873\n",
      "Dev Corpus Coverage at 8 = 83.77580318142851\n",
      "\n",
      "\n",
      "Training Vocab Coverage at 9 = 6.348811772894503\n",
      "Training Corpus Coverage at 9 = 83.64550717686959\n",
      "Dev Vocab Coverage at 9 = 27.82128051589129\n",
      "Dev Corpus Coverage at 9 = 83.24511151328771\n",
      "\n",
      "\n",
      "Training Vocab Coverage at 10 = 5.844188127672267\n",
      "Training Corpus Coverage at 10 = 83.08917131992737\n",
      "Dev Vocab Coverage at 10 = 26.347305389221553\n",
      "Dev Corpus Coverage at 10 = 82.77021050769503\n",
      "\n",
      "\n",
      "Training Vocab Coverage at 11 = 5.414139405389284\n",
      "Training Corpus Coverage at 11 = 82.5676407111781\n",
      "Dev Vocab Coverage at 11 = 24.92597223136145\n",
      "Dev Corpus Coverage at 11 = 82.29530950210236\n",
      "\n",
      "\n",
      "Training Vocab Coverage at 12 = 5.026349806105202\n",
      "Training Corpus Coverage at 12 = 82.05460587167278\n",
      "Dev Vocab Coverage at 12 = 23.649404487727843\n",
      "Dev Corpus Coverage at 12 = 81.83401597517997\n",
      "\n",
      "\n",
      "Training Vocab Coverage at 13 = 4.711892214378044\n",
      "Training Corpus Coverage at 13 = 81.60391901613511\n",
      "Dev Vocab Coverage at 13 = 22.47154043561229\n",
      "Dev Corpus Coverage at 13 = 81.3795261875927\n",
      "\n",
      "\n",
      "Training Vocab Coverage at 14 = 4.397434622650886\n",
      "Training Corpus Coverage at 14 = 81.1185639409407\n",
      "Dev Vocab Coverage at 14 = 21.27393564519313\n",
      "Dev Corpus Coverage at 14 = 80.93184013934058\n",
      "\n",
      "\n"
     ]
    }
   ],
   "source": [
    "## finding the threshold for UNK cutoff based on the training and dev corpus coverage\n",
    "training_vocab_coverage = []\n",
    "training_corpus_coverage = []\n",
    "dev_vocab_coverage = []\n",
    "dev_corpus_coverage = []\n",
    "\n",
    "for n in range(1,15,1):\n",
    "    train_unk_overall = train_vocabu.loc[train_vocabu['count'] <= n].sum(axis=0)['count']\n",
    "    train_unk_vocab = train_vocabu.loc[train_vocabu['count'] <= n]['word'].tolist()\n",
    "    training_vc = (1 - len(train_unk_vocab)/len(train_vocab_dict.keys()))*100\n",
    "    training_cc = (1 - train_unk_overall/sum(train_vocab_dict.values()))*100\n",
    "    \n",
    "    training_vocab_coverage.append(training_vc)\n",
    "    training_corpus_coverage.append(training_cc)\n",
    "    print (\"Training Vocab Coverage at\", n, \"=\",  training_vc)\n",
    "    print (\"Training Corpus Coverage at\", n,  \"=\", training_cc)\n",
    "    \n",
    "    dev_unk_overall = 0\n",
    "    dev_unk_vocab = 0\n",
    "    for k,v in dev_vocab_dict.items():\n",
    "        if k in train_unk_vocab:\n",
    "            dev_unk_overall += v\n",
    "            dev_unk_vocab += 1\n",
    "            \n",
    "    dev_vc = (1- (len(dev_train_mismatch.keys()) + dev_unk_vocab)/len(dev_vocab_dict.keys()))*100\n",
    "    dev_cc = (1- (sum(dev_train_mismatch.values()) + dev_unk_overall)/sum(dev_vocab_dict.values()))*100\n",
    "    dev_vocab_coverage.append(dev_vc)\n",
    "    dev_corpus_coverage.append(dev_cc)\n",
    "    print (\"Dev Vocab Coverage at\", n, \"=\", dev_vc)\n",
    "    print (\"Dev Corpus Coverage at\", n, \"=\", dev_cc)\n",
    "    print (\"\\n\")"
   ]
  },
  {
   "cell_type": "code",
   "execution_count": 130,
   "metadata": {},
   "outputs": [
    {
     "data": {
      "image/png": "[encoded data removed]",
      "text/plain": [
       "<Figure size 432x288 with 1 Axes>"
      ]
     },
     "metadata": {},
     "output_type": "display_data"
    }
   ],
   "source": [
    "fig = plt.figure()\n",
    "plt.plot(list(range(1,15)), training_corpus_coverage)\n",
    "fig.suptitle('Training Corpus Coverage against N', fontsize=12)\n",
    "plt.ylabel('coverage', fontsize=10)\n",
    "plt.xlabel('N: UNK cutoff threshold', fontsize=10)\n",
    "fig.savefig('training_cc.jpg')"
   ]
  },
  {
   "cell_type": "code",
   "execution_count": 131,
   "metadata": {},
   "outputs": [
    {
     "data": {
      "image/png": "[encoded data removed]",
      "text/plain": [
       "<Figure size 432x288 with 1 Axes>"
      ]
     },
     "metadata": {},
     "output_type": "display_data"
    }
   ],
   "source": [
    "fig = plt.figure()\n",
    "plt.plot(list(range(1,15)), dev_corpus_coverage)\n",
    "fig.suptitle('Dev Corpus Coverage against N', fontsize=12)\n",
    "plt.ylabel('coverage', fontsize=10)\n",
    "plt.xlabel('N: UNK cutoff threshold', fontsize=10)\n",
    "fig.savefig('dev_cc.jpg')"
   ]
  },
  {
   "cell_type": "code",
   "execution_count": 85,
   "metadata": {},
   "outputs": [],
   "source": [
    "# updating vocab, tags and pair dictionary (based on regex match for word (English word in tweets))\n",
    "\n",
    "# this also outputs a list of list of tags which contain STOP_TOKEN which we will use to evaluate\n",
    "# the transition probabilities for bigram and trigram HMM\n",
    "\n",
    "def update_vocab_tags_pair_dict(tweets, threshold, old_pair_dict):\n",
    "    vocab_dict = {}\n",
    "    tags_dict = {}\n",
    "    tags_sentences = []\n",
    "    \n",
    "    for tweet in tweets:\n",
    "        tag_sent = []\n",
    "        for pair in tweet:\n",
    "            word = pair[0]\n",
    "            if bool(URL_REGEX.match(word)):\n",
    "                word = URL_TOKEN\n",
    "            elif bool(RT_REGEX.match(word)):\n",
    "                word = RT_TOKEN\n",
    "            elif bool(MENTION_REGEX.match(word)):\n",
    "                word = MENTION_TOKEN\n",
    "            elif bool(HASHTAG_REGEX.match(word)):\n",
    "                word = HASHTAG_TOKEN\n",
    "            elif bool(NUMBER_REGEX.match(word)):\n",
    "                word = NUMBER_TOKEN\n",
    "            elif bool(EMOTICON_REGEX.match(word)):\n",
    "                word = EMOTICON_TOKEN\n",
    "            elif bool(SMILEY_REGEX.match(word)):\n",
    "                word = SMILEY_TOKEN\n",
    "            \n",
    "            tags_dict[pair[1]] = tags_dict.get(pair[1], 0) + 1\n",
    "            vocab_dict[word] = vocab_dict.get(word, 0) + 1\n",
    "#             pair_dict[(word, pair[1])] = pair_dict.get((word, pair[1]), 0) + 1\n",
    "            tag_sent.append(pair[1])\n",
    "        tags_dict[STOP_TOKEN] = tags_dict.get(STOP_TOKEN, 0) + 1\n",
    "        tag_sent.append(STOP_TOKEN)\n",
    "        tags_sentences.append(tag_sent)\n",
    "        \n",
    "    vocab_dict[UNK_TOKEN] = 0\n",
    "    unk_vocab = set()\n",
    "    for k, v in vocab_dict.items():\n",
    "        if v <= threshold:\n",
    "            unk_vocab.add(k)\n",
    "            vocab_dict[UNK_TOKEN] += v\n",
    "    \n",
    "            \n",
    "    print (len(unk_vocab))\n",
    "    \n",
    "    for word in unk_vocab:\n",
    "        del vocab_dict[word]\n",
    "        \n",
    "    \n",
    "    new_pair_dict = old_pair_dict.copy()\n",
    "    for pair, v in old_pair_dict.items():\n",
    "        word = pair[0]\n",
    "        \n",
    "        if bool(URL_REGEX.match(word)):\n",
    "            new_pair_dict[(URL_TOKEN, pair[1])] = new_pair_dict.get((URL_TOKEN, pair[1]),0) + v\n",
    "            del new_pair_dict[pair]\n",
    "\n",
    "        elif bool(RT_REGEX.match(word)):\n",
    "            new_pair_dict[(RT_TOKEN, pair[1])] = new_pair_dict.get((RT_TOKEN, pair[1]),0) + v\n",
    "            del new_pair_dict[pair]\n",
    "\n",
    "        elif bool(MENTION_REGEX.match(word)):\n",
    "            new_pair_dict[(MENTION_TOKEN, pair[1])] = new_pair_dict.get((MENTION_TOKEN, pair[1]),0) + v\n",
    "            del new_pair_dict[pair]\n",
    "            \n",
    "        elif bool(HASHTAG_REGEX.match(word)):\n",
    "            new_pair_dict[(HASHTAG_TOKEN, pair[1])] = new_pair_dict.get((HASHTAG_TOKEN, pair[1]),0) + v\n",
    "            del new_pair_dict[pair]\n",
    "        \n",
    "        elif bool(NUMBER_REGEX.match(word)):\n",
    "            new_pair_dict[(NUMBER_TOKEN, pair[1])] = new_pair_dict.get((NUMBER_TOKEN, pair[1]),0) + v\n",
    "            del new_pair_dict[pair]\n",
    "\n",
    "        elif bool(EMOTICON_REGEX.match(word)):\n",
    "            new_pair_dict[(EMOTICON_TOKEN, pair[1])] = new_pair_dict.get((EMOTICON_TOKEN, pair[1]),0) + v\n",
    "            del new_pair_dict[pair]\n",
    "\n",
    "        elif bool(SMILEY_REGEX.match(word)):\n",
    "            new_pair_dict[(SMILEY_TOKEN, pair[1])] = new_pair_dict.get((SMILEY_TOKEN, pair[1]),0) + v\n",
    "            del new_pair_dict[pair]\n",
    "            \n",
    "        elif word not in vocab_dict.keys():\n",
    "            new_pair_dict[(UNK_TOKEN, pair[1])] = new_pair_dict.get((UNK_TOKEN, pair[1]),0) + v\n",
    "            del new_pair_dict[pair]\n",
    "    \n",
    "    return vocab_dict, tags_dict, new_pair_dict, tags_sentences"
   ]
  },
  {
   "cell_type": "code",
   "execution_count": 86,
   "metadata": {},
   "outputs": [
    {
     "name": "stdout",
     "output_type": "stream",
     "text": [
      "32049\n"
     ]
    }
   ],
   "source": [
    "train_vocab_dict_new, train_tags_dict,new_pair_dict, train_tags_sentences = update_vocab_tags_pair_dict(train_tweets, 1, pair_dict)"
   ]
  },
  {
   "cell_type": "code",
   "execution_count": 88,
   "metadata": {},
   "outputs": [
    {
     "name": "stdout",
     "output_type": "stream",
     "text": [
      "Training data stats:\n",
      "count of unique words in Vocabulary = 21773\n",
      "count of unique tags = 25\n",
      "count of unique word-tag pair = 28513\n",
      "Number of tags-sentences =  50000\n"
     ]
    }
   ],
   "source": [
    "print (\"Training data stats:\")\n",
    "print (\"count of unique words in Vocabulary =\", len(train_vocab_dict_new.keys()))\n",
    "print (\"count of unique tags =\", len(train_tags_dict.keys()))\n",
    "print (\"count of unique word-tag pair =\", len(new_pair_dict.keys()))\n",
    "print (\"Number of tags-sentences = \", len(train_tags_sentences))"
   ]
  },
  {
   "cell_type": "code",
   "execution_count": 89,
   "metadata": {},
   "outputs": [
    {
     "data": {
      "text/plain": [
       "{'~': 49001,\n",
       " '@': 43095,\n",
       " 'L': 9539,\n",
       " 'R': 31098,\n",
       " 'A': 36842,\n",
       " ',': 70893,\n",
       " 'O': 41922,\n",
       " 'V': 100069,\n",
       " 'P': 59019,\n",
       " '<stop>': 50000,\n",
       " 'N': 100677,\n",
       " '$': 13255,\n",
       " 'U': 29758,\n",
       " '#': 16839,\n",
       " 'D': 42689,\n",
       " '^': 48824,\n",
       " '&': 12063,\n",
       " 'T': 2998,\n",
       " '!': 6642,\n",
       " 'X': 556,\n",
       " 'G': 6821,\n",
       " 'E': 5273,\n",
       " 'Z': 1504,\n",
       " 'S': 386,\n",
       " 'Y': 12}"
      ]
     },
     "execution_count": 89,
     "metadata": {},
     "output_type": "execute_result"
    }
   ],
   "source": [
    "train_tags_dict"
   ]
  },
  {
   "cell_type": "code",
   "execution_count": 90,
   "metadata": {},
   "outputs": [],
   "source": [
    "# Unigram LM, outputs unigram probability dict (doesn't contain STOP_TOKEN)\n",
    "class unigram_LM():\n",
    "    def __init__(self, data):\n",
    "        self.unigrams = {}\n",
    "        for sent in data:\n",
    "            for i in range(0, len(sent)):\n",
    "                self.unigrams[sent[i]] = self.unigrams.get(sent[i], 0) + 1\n",
    "\n",
    "    def get_unigram_prob_dict(self):\n",
    "        prob_dict = {}\n",
    "        for key, value in self.unigrams.items():\n",
    "            prob_dict[key] = float(value) / float(sum(self.unigrams.values()))\n",
    "        return prob_dict"
   ]
  },
  {
   "cell_type": "code",
   "execution_count": 91,
   "metadata": {},
   "outputs": [
    {
     "name": "stdout",
     "output_type": "stream",
     "text": [
      "1.0\n",
      "{'~': 0.06283992177230611, '@': 0.05526594209868231, 'L': 0.01223301593408355, 'R': 0.03988073482735405, 'A': 0.04724696226475586, ',': 0.09091468692892181, 'O': 0.053761662017889775, 'V': 0.12833060818825942, 'P': 0.0756872174665769, '<stop>': 0.0641210605623417, 'N': 0.12911032028469752, '$': 0.016998493155076785, 'U': 0.03816229040428329, '#': 0.02159469077618544, 'D': 0.0547452790869161, '^': 0.06261293321791542, '&': 0.015469847071270559, 'T': 0.003844698791318008, '!': 0.008517841685101472, 'X': 0.0007130261934532397, 'G': 0.008747395081914655, 'E': 0.006762207046904556, 'Z': 0.0019287615017152383, 'S': 0.0004950145875412779, 'Y': 1.5389054534962007e-05}\n",
      "['~', '@', 'L', 'R', 'A', ',', 'O', 'V', 'P', 'N', '$', 'U', '#', 'D', '^', '&', 'T', '!', 'X', 'G', 'E', 'Z', 'S', 'Y']\n",
      "24\n"
     ]
    }
   ],
   "source": [
    "tags_ULM = unigram_LM(train_tags_sentences)\n",
    "unigram_prob_dict = tags_ULM.get_unigram_prob_dict()\n",
    "print (sum(unigram_prob_dict.values()))\n",
    "\n",
    "print (unigram_prob_dict)\n",
    "\n",
    "\n",
    "tags_overall = list(tags_ULM.unigrams.keys())\n",
    "tags_overall.pop(9)\n",
    "print (tags_overall)\n",
    "print (len(tags_overall))"
   ]
  },
  {
   "cell_type": "code",
   "execution_count": 92,
   "metadata": {},
   "outputs": [],
   "source": [
    "# estimating emission probability from tags to english words\n",
    "# Need to create emission_prob dict for each data set since the text pre-processing (like REGEX based \n",
    "# substituion and UNKing are done in this step)\n",
    "\n",
    "# The estimates are calculated using the word-tag pair dict and tags dict derived from the training dataset\n",
    "\n",
    "def emission_prob(data, tags_dict, pair_dict, vocab_dict):\n",
    "    \n",
    "    emission_prob  = {}\n",
    "    for tag in tags_overall:\n",
    "        for tweet in data:\n",
    "            for pair in tweet:\n",
    "                word = pair[0]\n",
    "                if word in vocab_dict:\n",
    "                    emission_prob[(word,tag)] = pair_dict.get((word,tag),0)/tags_dict[tag]\n",
    "                else:\n",
    "                    if bool(URL_REGEX.match(word)):\n",
    "                        emission_prob[(word,tag)] = pair_dict.get((URL_TOKEN,tag),0)/tags_dict[tag]\n",
    "                        \n",
    "                    elif bool(RT_REGEX.match(word)):\n",
    "                        emission_prob[(word,tag)] = pair_dict.get((RT_TOKEN,tag),0)/tags_dict[tag]\n",
    "                        \n",
    "                    elif bool(MENTION_REGEX.match(word)):\n",
    "                        emission_prob[(word,tag)] = pair_dict.get((MENTION_TOKEN,tag),0)/tags_dict[tag]\n",
    "                        \n",
    "                    elif bool(HASHTAG_REGEX.match(word)):\n",
    "                        emission_prob[(word,tag)] = pair_dict.get((HASHTAG_TOKEN,tag),0)/tags_dict[tag]\n",
    "                          \n",
    "                    elif bool(NUMBER_REGEX.match(word)):\n",
    "                        emission_prob[(word,tag)] = pair_dict.get((NUMBER_TOKEN,tag),0)/tags_dict[tag]            \n",
    "                    \n",
    "                    elif bool(EMOTICON_REGEX.match(word)):\n",
    "                        emission_prob[(word,tag)] = pair_dict.get((EMOTICON_TOKEN,tag),0)/tags_dict[tag]\n",
    "                        \n",
    "                    elif bool(SMILEY_REGEX.match(word)):\n",
    "                        emission_prob[(word,tag)] = pair_dict.get((SMILEY_TOKEN,tag), 0)/tags_dict[tag]\n",
    "                        \n",
    "                    else: \n",
    "                        emission_prob[(word,tag)] = pair_dict.get((UNK_TOKEN,tag),0)/tags_dict[tag]\n",
    "    return emission_prob"
   ]
  },
  {
   "cell_type": "code",
   "execution_count": 93,
   "metadata": {},
   "outputs": [],
   "source": [
    "train_emission_prob = emission_prob(dev_tweets, train_tags_dict, new_pair_dict, train_vocab_dict_new)"
   ]
  },
  {
   "cell_type": "code",
   "execution_count": 94,
   "metadata": {},
   "outputs": [
    {
     "data": {
      "text/plain": [
       "0.012431422318600166"
      ]
     },
     "execution_count": 94,
     "metadata": {},
     "output_type": "execute_result"
    }
   ],
   "source": [
    "train_emission_prob[('will', 'V')]"
   ]
  },
  {
   "cell_type": "code",
   "execution_count": 96,
   "metadata": {},
   "outputs": [],
   "source": [
    "# Bigram LM, outputs bigram transition dict (doesn't contain (START_TOKEN, START_TOKEN))\n",
    "\n",
    "class bigram_LM(unigram_LM):\n",
    "    def __init__(self, data):\n",
    "        unigram_LM.__init__(self, data)\n",
    "        self.bigrams = {}\n",
    "        for sent in data:\n",
    "            self.bigrams[(START_TOKEN, sent[0])] = self.bigrams.get((START_TOKEN, sent[0]), 0) + 1\n",
    "            for i in range(0, len(sent)-1, 1):\n",
    "                self.bigrams[(sent[i], sent[i+1])] = self.bigrams.get((sent[i], sent[i+1]), 0) + 1\n",
    "                    \n",
    "    def get_bigram_prob_dict(self):\n",
    "        prob_dict = {}\n",
    "        self.unigrams[START_TOKEN] = self.unigrams[STOP_TOKEN]\n",
    "#         print(self.unigrams)\n",
    "        for key, value in self.bigrams.items():\n",
    "#             print (key, value)\n",
    "            prob_dict[key] = value / self.unigrams[key[0]]\n",
    "        return prob_dict"
   ]
  },
  {
   "cell_type": "code",
   "execution_count": 105,
   "metadata": {},
   "outputs": [],
   "source": [
    "# Trigram LM, outputs trigram transition dict \n",
    "\n",
    "class trigram_LM(bigram_LM):\n",
    "    def __init__(self, data):\n",
    "        bigram_LM.__init__(self, data)\n",
    "        self.trigrams = {}\n",
    "        for sent in data:\n",
    "            for i in range(len(sent)-2):\n",
    "                if (sent[i], sent[i+1], sent[i+2]) not in self.trigrams.keys():\n",
    "                    self.trigrams[(sent[i], sent[i+1], sent[i+2])] = 1\n",
    "                else:\n",
    "                    self.trigrams[(sent[i], sent[i+1], sent[i+2])] += 1\n",
    "            \n",
    "    def get_trigram_prob_dict(self):\n",
    "        prob_dict = {}\n",
    "#         print(self.unigrams[STOP_TOKEN])\n",
    "        self.bigrams[(START_TOKEN, START_TOKEN)] = self.unigrams[STOP_TOKEN]\n",
    "        for k,v in self.trigrams.items():\n",
    "            prob_dict[k] = v / self.bigrams[(k[0], k[1])]\n",
    "        return prob_dict"
   ]
  },
  {
   "cell_type": "code",
   "execution_count": 109,
   "metadata": {
    "scrolled": false
   },
   "outputs": [],
   "source": [
    "tags_BLM = bigram_LM(train_tags_sentences)\n",
    "bigram_prob_dict = tags_BLM.get_bigram_prob_dict()\n",
    "\n",
    "# print(bigram_prob_dict)"
   ]
  },
  {
   "cell_type": "code",
   "execution_count": 111,
   "metadata": {},
   "outputs": [],
   "source": [
    "tags_TLM = trigram_LM(train_tags_sentences)\n",
    "trigram_prob_dict = tags_TLM.get_trigram_prob_dict()\n",
    "\n",
    "# print(trigram_prob_dict)"
   ]
  },
  {
   "cell_type": "code",
   "execution_count": 264,
   "metadata": {},
   "outputs": [],
   "source": [
    "# does linear interpolation based smoothing of bigram model\n",
    "# uses unigram prob dict, bigram prob dict \n",
    "# if a 2-gram token is not found in the bigram prob dict, it considers its probability as zero but in the resultant\n",
    "# final bigram prob dict, this smoothes it by utilizing the lower order 1-gram model\n",
    "\n",
    "# adds (START_TOKEN,tags[i]) into the new bigram prob dict\n",
    "\n",
    "# outputs a new bigram prob dict which contains probability corresponding to every possible tags combination including\n",
    "# START_TOKEN(beginning) and STOP_TOKEN(end)\n",
    "\n",
    "def bigram_linear_interpolation(tags, unigrams_prob, bigrams_prob, lambda1, lambda2):\n",
    "    \n",
    "    N = len(tags)\n",
    "    \n",
    "    new_prob = {}\n",
    "    bg_prob = bigrams_prob.copy()\n",
    "    unigrams_prob[START_TOKEN] = unigrams_prob[STOP_TOKEN]\n",
    "    \n",
    "    for i in range(0,N):\n",
    "\n",
    "        bw_start = (START_TOKEN,tags[i])\n",
    "        bw_stop = (tags[i],STOP_TOKEN)\n",
    "        \n",
    "        new_prob[bw_start] = lambda1 * bg_prob.get(bw_start,0) + lambda2 * unigrams_prob[START_TOKEN]\n",
    "        new_prob[bw_stop] = lambda1 * bg_prob.get(bw_stop,0) + lambda2 * unigrams_prob[tags[i]]\n",
    "        \n",
    "   \n",
    "        for j in range(0,N):\n",
    "            bw = (tags[i],tags[j])\n",
    "            new_prob[bw] = lambda1 * bg_prob.get(bw,0) + lambda2 * unigrams_prob[tags[i]]           \n",
    "    \n",
    "    return new_prob"
   ]
  },
  {
   "cell_type": "code",
   "execution_count": 274,
   "metadata": {},
   "outputs": [],
   "source": [
    "# does linear interpolation based smoothing of trigram model\n",
    "# uses unigram prob dict, bigram prob dict, trigram prob dict\n",
    "# if a 3-gram token is not found in the bigram prob dict, it considers its probability as zero\n",
    "# if a 2-gram token is not found in the bigram prob dict, it considers its probability as zero\n",
    "# but in the resultant final bigram prob dict, this smoothes it by utilizing the lower order 1-gram model and the\n",
    "# 2-gram model if the 2-gram token is found in the 2-gram prob dict\n",
    "\n",
    "# adds (START_TOKEN, START_TOKEN, tags[i]) into the new trigram prob dict\n",
    "# adds (START_TOKEN, tags[i], tags[j]) into the new trigram prob dict\n",
    "# adds (START_TOKEN, tags[i], STOP_TOKEN) into the new trigram prob dict\n",
    "\n",
    "\n",
    "# outputs a new trigram prob dict which contains probability corresponding to every possible tags combination including\n",
    "# START_TOKEN(beginning) and STOP_TOKEN(end)\n",
    "\n",
    "def trigram_linear_interpolation(tags, unigrams_prob, bigrams_prob, trigrams_prob, lambda1, lambda2, lambda3):\n",
    "    \n",
    "    N = len(tags)\n",
    "    \n",
    "    unigrams_prob[START_TOKEN] = unigrams_prob[STOP_TOKEN]\n",
    "    bigrams_prob[(START_TOKEN, START_TOKEN)] = 1\n",
    "    \n",
    "    bigrams = bigrams_prob.copy()\n",
    "    unigrams = unigrams_prob.copy()\n",
    "    trigrams = trigrams_prob.copy()\n",
    "\n",
    "    new_prob = {}\n",
    "    \n",
    "    for i in range(0, N):\n",
    "        tgram = (START_TOKEN, START_TOKEN, tags[i])\n",
    "        bgram = tgram[:2]\n",
    "        new_prob[tgram] = lambda1*trigrams.get(tgram,0) + lambda2*bigrams.get(bgram,0) + lambda3 * unigrams[START_TOKEN]\n",
    "        \n",
    "        tgg = (START_TOKEN, tags[i], STOP_TOKEN)\n",
    "        bgg = tgg[:2]\n",
    "        new_prob[tgg] = lambda1*trigrams.get(tgg,0) + lambda2*bigrams.get(bgg,0) + lambda3 * unigrams[START_TOKEN]\n",
    "\n",
    "        \n",
    "        for j in range(0,N):\n",
    "            tg1 = (START_TOKEN, tags[i], tags[j])\n",
    "            bg1 = tg1[:2]\n",
    "            tg2 = (tags[i], tags[j], STOP_TOKEN)\n",
    "            bg2 = tg2[:2]\n",
    "            new_prob[tg1] = lambda1*trigrams.get(tg1,0) + lambda2*bigrams.get(bg1,0) + lambda3*unigrams[START_TOKEN]\n",
    "            new_prob[tg2] = lambda1*trigrams.get(tg2,0) + lambda2*bigrams.get(bg2,0) + lambda3*unigrams[tags[i]]\n",
    "            \n",
    "            \n",
    "            for k in range(0,N):\n",
    "                tg = (tags[i], tags[j], tags[k])\n",
    "                bg = tg[:2]\n",
    "                new_prob[tg] = lambda1*trigrams.get(tg,0) + lambda2*bigrams.get(bg,0) + lambda3*unigrams[tags[i]]\n",
    "            \n",
    "    return new_prob"
   ]
  },
  {
   "cell_type": "code",
   "execution_count": 284,
   "metadata": {},
   "outputs": [],
   "source": [
    "# viterbi decoding algorithm for the bigram HMM model\n",
    "# takes tags, smoothed bigram prob dict (after linear interpolation), emission prob (tag to word) and a tweet\n",
    "\n",
    "# outputs the best possible sequence of tags for the tweet\n",
    "def bigram_viterbi(tags, bigram_smoothed, emission_prob, sent):\n",
    "\n",
    "    N = len(tags)\n",
    "    S = len(sent)\n",
    "    pi = np.zeros((N+1,S))\n",
    "    bp = {}\n",
    "    \n",
    "    for i in range(0,N):\n",
    "        pi[i][0] = bigram_smoothed[(START_TOKEN, tags[i])] * emission_prob.get((sent[0], tags[i]), 0)\n",
    "        bp[tags[i]] = [tags[i]]\n",
    "        \n",
    "    for s in range(1,S):\n",
    "        curr_bp = {}\n",
    "        for n in range(0,N):            \n",
    "            max_score = float('-inf')\n",
    "            best_state = None\n",
    "            e_value = emission_prob.get((sent[s], tags[n]), 0)\n",
    "            for j in range(0,N):\n",
    "                score = (pi[j][s-1]) * bigram_smoothed[tags[j], tags[n]] * e_value\n",
    "                if score > max_score:\n",
    "                    max_score = score\n",
    "                    best_state = j\n",
    "                    pi[n][s] = max_score\n",
    "            \n",
    "            curr_bp[tags[n]] = bp[tags[best_state]] + [tags[n]]\n",
    "        bp = curr_bp\n",
    "    \n",
    "    max_score = float('-inf')\n",
    "    best_state = None\n",
    "    for j in range(0,N):\n",
    "        score = pi[j][S-1] * bigram_smoothed[tags[j], STOP_TOKEN]\n",
    "        if score > max_score:\n",
    "            max_score = score\n",
    "            best_state = j\n",
    "        \n",
    "    pi[N][S-1] = max_score\n",
    "    return bp[tags[best_state]]"
   ]
  },
  {
   "cell_type": "code",
   "execution_count": 276,
   "metadata": {},
   "outputs": [],
   "source": [
    "# viterbi decoding algorithm for the trigram HMM model\n",
    "# takes tags, smoothed trigram prob dict (after linear interpolation), emission prob (tag to word) and a tweet\n",
    "\n",
    "# outputs the best possible sequence of tags for the tweet\n",
    "\n",
    "def trigram_viterbi(tags, trigram_smoothed, emission_prob, sent):\n",
    "    \n",
    "    N = len(tags)\n",
    "    S = len(sent)\n",
    "    pi = {}\n",
    "    bp = {}\n",
    "    \n",
    "    def get_tag(k):\n",
    "        if k in [-1, 0]:\n",
    "            return list([START_TOKEN])\n",
    "        else:\n",
    "            return tags\n",
    "\n",
    "\n",
    "    pi[0,START_TOKEN,START_TOKEN] = 1\n",
    "    bp[START_TOKEN,START_TOKEN] = []\n",
    "\n",
    "    for k in range(1, S+1):\n",
    "        curr_bp = {}\n",
    "        for u in get_tag(k-1):\n",
    "            for v in get_tag(k):\n",
    "                e_value = emission_prob[sent[k-1], v]\n",
    "                max_score = float('-inf')\n",
    "                best_w = None\n",
    "                for w in get_tag(k-2):\n",
    "                    score = pi.get((k-1,w,u),0) * trigram_smoothed.get((w,u,v),0) * e_value\n",
    "                    if score > max_score:\n",
    "                        max_score = score\n",
    "                        best_w = w\n",
    "                        pi[k,u,v] = max_score\n",
    "                curr_bp[u,v] = bp[best_w,u] + [v]\n",
    "        bp = curr_bp\n",
    "                \n",
    "    max_score = float('-inf')\n",
    "    best_u = None\n",
    "    best_v = None\n",
    "    for u in get_tag(S-1):\n",
    "        for v in get_tag(S):\n",
    "            score = pi.get((S,u,v),0) * trigram_smoothed.get((u,v,STOP_TOKEN),0)\n",
    "            if score > max_score:\n",
    "                max_score = score\n",
    "                best_u = u\n",
    "                best_v = v\n",
    "                \n",
    "    return bp[best_u, best_v]"
   ]
  },
  {
   "cell_type": "code",
   "execution_count": 285,
   "metadata": {},
   "outputs": [],
   "source": [
    "## function for plotting the confusion matrix\n",
    "import pylab\n",
    "from pylab import rcParams\n",
    "rcParams['figure.figsize'] = 15, 15\n",
    "\n",
    "def plot_confusion_matrix(cm, classes, title, filename):\n",
    "    pylab.clf()\n",
    "    pylab.matshow(cm, fignum=False, cmap='Blues', vmin=0, vmax=1000)\n",
    "    ax = pylab.axes()\n",
    "    ax.set_xticks(range(len(classes)))\n",
    "    ax.set_xticklabels(classes)\n",
    "    ax.xaxis.set_ticks_position(\"bottom\")\n",
    "    ax.set_yticks(range(len(classes)))\n",
    "    ax.set_yticklabels(classes)\n",
    "    pylab.title(title)\n",
    "    pylab.colorbar()\n",
    "    pylab.grid(False)\n",
    "    pylab.xlabel('Predicted class')\n",
    "    pylab.ylabel('Actual Class')\n",
    "    pylab.show()\n",
    "    pylab.savefig(filename)"
   ]
  },
  {
   "cell_type": "code",
   "execution_count": 286,
   "metadata": {},
   "outputs": [],
   "source": [
    "# Given n, list of tags, smoothed n-gram transition prob dict, emission prob dict and data (list of tweets),\n",
    "# this function outputs the accuracy of the n-gram HMM model on the data\n",
    "\n",
    "def get_metrics_dev(n, tags, ng_smoothed, emission_prob, data):\n",
    "    \n",
    "    ground_truth = []\n",
    "    predicted = []\n",
    "   \n",
    "    for tweet in data:\n",
    "        sent = []\n",
    "        tagss = []\n",
    "        for pair in tweet:\n",
    "            sent.append(pair[0])\n",
    "            tagss.append(pair[1])\n",
    "        \n",
    "        ground_truth.append(tagss)\n",
    "\n",
    "        if(n == 2):\n",
    "            pred_tags = bigram_viterbi(tags, ng_smoothed, emission_prob, sent)\n",
    "            predicted.append(pred_tags)\n",
    "\n",
    "        if(n == 3):\n",
    "            pred_tags = trigram_viterbi(tags, ng_smoothed, emission_prob, sent)\n",
    "            predicted.append(pred_tags)\n",
    "#             if len(predd) != len(tagg):\n",
    "#                 print (predd, \"\\n\", tagg)\n",
    "\n",
    "    ground_truth = [i for j in ground_truth for i in j]\n",
    "    predicted = [i for j in predicted for i in j]\n",
    "    \n",
    "    acc = accuracy_score(ground_truth, predicted) \n",
    "    return acc"
   ]
  },
  {
   "cell_type": "code",
   "execution_count": 189,
   "metadata": {},
   "outputs": [
    {
     "name": "stdout",
     "output_type": "stream",
     "text": [
      "lambda_1 = 0.01 lambda2 = 0.99\n",
      "Accuracy = 0.8947597599640763\n",
      "\n",
      "\n",
      "lambda_1 = 0.1 lambda2 = 0.9\n",
      "Accuracy = 0.9048973315734328\n",
      "\n",
      "\n",
      "lambda_1 = 0.4 lambda2 = 0.6\n",
      "Accuracy = 0.9108301922736736\n",
      "\n",
      "\n",
      "lambda_1 = 0.6 lambda2 = 0.4\n",
      "Accuracy = 0.9164500809644981\n",
      "\n",
      "\n",
      "lambda_1 = 0.8 lambda2 = 0.2\n",
      "Accuracy = 0.9228183809821878\n",
      "\n",
      "\n",
      "lambda_1 = 0.99 lambda2 = 0.01\n",
      "Accuracy = 0.9273224564220496\n",
      "\n",
      "\n"
     ]
    }
   ],
   "source": [
    "lambda_set = [(0.01,0.99), (0.1,0.9), (0.4,0.6), (0.6,0.4), (0.8,0.2), (0.99,0.01)]\n",
    "for ll in lambda_set:\n",
    "    print(\"lambda_1 =\",ll[0], \"lambda2 =\", ll[1])\n",
    "    bg_smoothed = bigram_linear_interpolation(tags_overall, unigram_prob_dict, bigram_prob_dict, ll[0],ll[1])\n",
    "    acc = get_metrics_dev(2, tags_overall, bg_smoothed, train_emission_prob, dev_tweets)\n",
    "    print (\"Accuracy =\", acc)\n",
    "    print ('\\n')"
   ]
  },
  {
   "cell_type": "code",
   "execution_count": 193,
   "metadata": {},
   "outputs": [
    {
     "name": "stdout",
     "output_type": "stream",
     "text": [
      "lambda_1 = 0.2 lambda2 = 0.4 lambda3 = 0.4\n",
      "Accuracy = 0.9107757623589925\n",
      "\n",
      "\n",
      "lambda_1 = 0.6 lambda2 = 0.3 lambda3 = 0.1\n",
      "Accuracy = 0.9154567350215679\n",
      "\n",
      "\n",
      "lambda_1 = 0.7 lambda2 = 0.2 lambda3 = 0.1\n",
      "Accuracy = 0.9164228660071575\n",
      "\n",
      "\n",
      "lambda_1 = 0.8 lambda2 = 0.15 lambda3 = 0.05\n",
      "Accuracy = 0.918654492509083\n",
      "\n",
      "\n"
     ]
    }
   ],
   "source": [
    "lambda_set = [(0.2,0.4,0.4), (0.6,0.3,0.1), (0.7,0.2,0.1), (0.8,0.15,0.05)]\n",
    "for ll in lambda_set:\n",
    "    print(\"lambda_1 =\",ll[0], \"lambda2 =\", ll[1], \"lambda3 =\", ll[2])\n",
    "    tg_smoothed = trigram_linear_interpolation(tags_overall, unigram_prob_dict, bigram_prob_dict, trigram_prob_dict, ll[0], ll[1], ll[2])\n",
    "    acc = get_metrics_dev(3, tags_overall, tg_smoothed, train_emission_prob, dev_tweets)\n",
    "    print (\"Accuracy =\", acc)\n",
    "    print ('\\n')"
   ]
  },
  {
   "cell_type": "code",
   "execution_count": 287,
   "metadata": {},
   "outputs": [],
   "source": [
    "# Given n, list of tags, smoothed n-gram transition prob dict, emission prob dict and data (list of tweets),\n",
    "# this function outputs the accuracy and confusion matrix of the n-gram HMM model on the data\n",
    "\n",
    "# if ea (error analysis) is True, it outputs those tweets for which the accuracy is less than 40%\n",
    "\n",
    "def get_metrics_ea_cnf(n, tags, ng_smoothed, emission_prob, data, ea=False):\n",
    "    \n",
    "    ground_truth = []\n",
    "    predicted = []\n",
    "   \n",
    "    for tweet in data:\n",
    "        sent = []\n",
    "        tagss = []\n",
    "        for pair in tweet:\n",
    "            sent.append(pair[0])\n",
    "            tagss.append(pair[1])\n",
    "        \n",
    "        ground_truth.append(tagss)\n",
    "\n",
    "        if(n == 2):\n",
    "            pred_tags = bigram_viterbi(tags, ng_smoothed, emission_prob, sent)\n",
    "            predicted.append(pred_tags)\n",
    "\n",
    "        if(n == 3):\n",
    "            pred_tags = trigram_viterbi(tags, ng_smoothed, emission_prob, sent)\n",
    "            predicted.append(pred_tags)\n",
    "            \n",
    "        if ea:\n",
    "            acc_one = accuracy_score(tagss, pred_tags)\n",
    "            if acc_one <= 0.4:\n",
    "                print (tweet, pred_tags)\n",
    "\n",
    "    ground_truth = [i for j in ground_truth for i in j]\n",
    "    predicted = [i for j in predicted for i in j]\n",
    "    \n",
    "    acc = accuracy_score(ground_truth, predicted)\n",
    "    cnf_matrix = confusion_matrix(ground_truth, predicted)\n",
    "    \n",
    "    return acc, cnf_matrix"
   ]
  },
  {
   "cell_type": "code",
   "execution_count": 257,
   "metadata": {},
   "outputs": [
    {
     "name": "stdout",
     "output_type": "stream",
     "text": [
      "(['Me', 'O'], ['hice', 'G'], ['re', 'G'], ['bosta', 'G'], ['mann', 'N']) ['O', 'V', 'N', 'G', 'G']\n",
      "(['IMS', '^'], ['@SO', '@'], ['HAPLY', '^'], ['S', '^']) ['~', '@', 'G', 'G']\n",
      "(['RT', '~'], ['@IMxGxWxVI', '@'], [':', '~'], ['✳️ＯＮＬＹ', '^'], ['✳️ＩＦ', '^'], ['✳️ＹＯＵ', '^'], ['✳️ＦＯＬＬＯＷＢＡＣＫ', '^'], ['✳️', '^'], ['#MGWV', '^'], ['✳️', '^'], ['#RETWEET', '^'], ['✳️', '^'], ['#FOLLOWTRICK', '^'], ['✳️', '^'], ['#TEAMFOLLOWBACK', '^'], ['✳️', '^'], ['#ANOTHERFOLLOWTRAIN', '^'], ['✳️#ＦＯＬＬＯＷ', '^'], ['…', ',']) ['~', '@', '~', 'E', 'E', 'E', 'E', 'E', '#', '#', '#', '#', '#', '#', '#', '#', '#', 'E', 'E']\n",
      "(['Ahhhh', '!'], ['fgs😫', '!']) ['^', '^']\n",
      "(['Boolin', '^'],) ['!']\n",
      "(['Forex', 'N'], ['Triple', 'N'], ['Force', 'N'], ['Robot', 'N'], ['https://t.co/3hadhmCORw', 'U']) ['^', '^', '^', '^', 'U']\n",
      "(['STEPH', '^'],) ['!']\n",
      "(['@megan_blackmore', '@'], ['ribbet', 'A'], ['lad', 'N'], ['😂😂', 'G']) ['@', '^', '^', 'E']\n",
      "(['Lemme', 'L'], ['eat', 'V'], ['that', 'D'], ['cooch', 'N'], ['giiiiirl', 'N']) ['L', 'V', 'P', '^', '^']\n",
      "([\"root'n\", 'N'], [\"thoot'n\", '&'], [\"shoot'n\", 'V']) ['^', '^', '^']\n",
      "(['Daddy', 'N'], ['here😏', 'N']) ['^', '^']\n",
      "(['Architecture', 'N'],) ['^']\n",
      "(['#CrazyWishes', '#'], ['shalwaar', 'A'], ['kameez', 'N'], ['k', 'N'], ['nechay', 'R'], ['white', 'A'], ['motay', 'N'], ['joggers', 'N']) ['^', '^', '^', '^', '^', 'A', 'N', 'N']\n",
      "(['Darling', 'N'], ['Taylin', 'N'], ['https://t.co/UeY9mzvxUf', 'U']) ['^', '^', 'U']\n",
      "(['SHAAARP', 'A'],) ['!']\n",
      "(['@AmusementBuzz', '@'], ['Tallest', 'A'], ['waterslide', 'N'], ['eva', 'N'], ['!', ',']) ['@', '^', '^', '^', ',']\n",
      "(['BEEF', 'N'], ['KEEMA', 'N'], ['STUFFED', 'V'], ['CHAPPATI', 'N'], ['https://t.co/Eu7rgPd5Oq', 'U']) ['^', '^', 'V', '^', 'U']\n",
      "(['8L3$$eD', '^'], ['t¥G', '^'], ['☝🏻️☝🏽☝🏿', '^']) ['$', 'N', 'E']\n",
      "(['RT', '~'], ['@xxxMxGxWxVxxx', '@'], [':', '~'], ['🎼ＲＥＴＷＥＥＴ', '^'], ['🎼ＩＦ', '^'], ['🎼ＹＯＵ', '^'], ['🎼ＷＡＮＴ', '^'], ['🎼ＦＯＬＬＯＷＥＲＳ', '^'], ['🎼', '^'], ['#MGWV', '^'], ['🎼', '^'], ['#FollowTrick', '^'], ['🎼', '^'], ['#TeamFollowBack', '^'], ['🎼', '^'], ['#AnotherFollowTrain', '^'], ['🎼#ＦＯＬＬＯＷ', '^'], ['☜', 'G'], ['~', 'G'], ['(', ','], ['●̮̃•', '~'], ['…', ',']) ['~', '@', '~', 'E', 'E', 'E', 'E', 'E', 'E', '#', '#', '#', '#', '#', '#', '#', 'G', 'G', 'G', ',', '^', ',']\n",
      "(['Stupidity', 'N'], ['😷😷', ',']) ['^', 'E']\n",
      "(['So', 'P'], ['full🐷', 'A']) ['R', 'G']\n",
      "(['So', 'P'], ['tired', 'A'], ['😴😴', ',']) ['R', 'A', 'E']\n",
      "Accuracy = 0.9273224564220496\n"
     ]
    }
   ],
   "source": [
    "bg_smoothed = bigram_linear_interpolation(tags_overall, unigram_prob_dict, bigram_prob_dict, 0.99,0.01)\n",
    "acc, cnf_matrix_test = get_metrics_ea_cnf(2, tags_overall, bg_smoothed, train_emission_prob, dev_tweets, ea=True)\n",
    "print (\"Accuracy =\", acc)"
   ]
  },
  {
   "cell_type": "code",
   "execution_count": 226,
   "metadata": {},
   "outputs": [
    {
     "name": "stderr",
     "output_type": "stream",
     "text": [
      "/home/lilly/anaconda3/lib/python3.6/site-packages/matplotlib/cbook/deprecation.py:107: MatplotlibDeprecationWarning: Adding an axes using the same arguments as a previous axes currently reuses the earlier instance.  In a future version, a new instance will always be created and returned.  Meanwhile, this warning can be suppressed, and the future behavior ensured, by passing a unique label to each axes instance.\n",
      "  warnings.warn(message, mplDeprecation, stacklevel=1)\n"
     ]
    },
    {
     "data": {
      "image/png": "[encoded data removed]",
      "text/plain": [
       "<Figure size 1080x1080 with 2 Axes>"
      ]
     },
     "metadata": {},
     "output_type": "display_data"
    },
    {
     "data": {
      "text/plain": [
       "<Figure size 1080x1080 with 0 Axes>"
      ]
     },
     "metadata": {},
     "output_type": "display_data"
    }
   ],
   "source": [
    "plot_confusion_matrix(cnf_matrix_test, tags_overall, \"Confusion Matrix on Dev Set - Bigram\", \"cnf_dev_bg\")"
   ]
  },
  {
   "cell_type": "code",
   "execution_count": 227,
   "metadata": {},
   "outputs": [
    {
     "name": "stdout",
     "output_type": "stream",
     "text": [
      "Accuracy = 0.9249214531507147\n"
     ]
    },
    {
     "name": "stderr",
     "output_type": "stream",
     "text": [
      "/home/lilly/anaconda3/lib/python3.6/site-packages/matplotlib/cbook/deprecation.py:107: MatplotlibDeprecationWarning: Adding an axes using the same arguments as a previous axes currently reuses the earlier instance.  In a future version, a new instance will always be created and returned.  Meanwhile, this warning can be suppressed, and the future behavior ensured, by passing a unique label to each axes instance.\n",
      "  warnings.warn(message, mplDeprecation, stacklevel=1)\n"
     ]
    },
    {
     "data": {
      "image/png": "[encoded data removed]",
      "text/plain": [
       "<Figure size 1080x1080 with 2 Axes>"
      ]
     },
     "metadata": {},
     "output_type": "display_data"
    },
    {
     "data": {
      "text/plain": [
       "<Figure size 1080x1080 with 0 Axes>"
      ]
     },
     "metadata": {},
     "output_type": "display_data"
    }
   ],
   "source": [
    "test_emission_prob = emission_prob(test_tweets, train_tags_dict, new_pair_dict, train_vocab_dict_new)\n",
    "acc, cnf_matrix = get_metrics_ea_cnf(2, tags_overall, bg_smoothed, test_emission_prob, test_tweets)\n",
    "print (\"Accuracy =\", acc)\n",
    "plot_confusion_matrix(cnf_matrix, tags_overall, \"Confusion Matrix on Test Set - Bigram\", \"cnf_test_bg\")"
   ]
  },
  {
   "cell_type": "code",
   "execution_count": 240,
   "metadata": {},
   "outputs": [
    {
     "name": "stdout",
     "output_type": "stream",
     "text": [
      "(['OMFGGGGGGGGGG', '!'],) ['^']\n",
      "(['Me', 'O'], ['hice', 'G'], ['re', 'G'], ['bosta', 'G'], ['mann', 'N']) ['O', 'Z', 'N', 'S', 'N']\n",
      "(['RT', '~'], ['@IMxGxWxVI', '@'], [':', '~'], ['✳️ＯＮＬＹ', '^'], ['✳️ＩＦ', '^'], ['✳️ＹＯＵ', '^'], ['✳️ＦＯＬＬＯＷＢＡＣＫ', '^'], ['✳️', '^'], ['#MGWV', '^'], ['✳️', '^'], ['#RETWEET', '^'], ['✳️', '^'], ['#FOLLOWTRICK', '^'], ['✳️', '^'], ['#TEAMFOLLOWBACK', '^'], ['✳️', '^'], ['#ANOTHERFOLLOWTRAIN', '^'], ['✳️#ＦＯＬＬＯＷ', '^'], ['…', ',']) ['~', '@', '~', 'E', 'E', 'E', 'E', 'E', '#', 'E', '#', 'E', '#', 'E', '#', 'E', '#', 'E', 'E']\n",
      "(['Colegiummmm', '!'],) ['^']\n",
      "(['Rickey', '^'], ['👀🐇', '^'], ['https://t.co/sNXMTyCHPN', 'U']) ['S', 'G', 'U']\n",
      "(['REQUEST', 'N'], ['FOR', 'P'], ['PROPOSALSREFUGEE', '^'], ['EMPLOYMENT', 'N'], [':', ','], ['REQUEST', 'N'], ['FOR', 'P'], ['PROPOSALS', 'N'], ['REFUGEE', 'N'], ['EMPLOYMENT', 'N'], ['AND', '&'], ['ACCULTURATION', 'N'], ['SERVICES', 'N'], ['T', 'G'], ['...', '~'], ['https://t.co/qUUNzTho4Z', 'U']) ['^', 'P', '^', '^', ',', '^', 'P', '^', '^', '^', '&', '^', '^', '^', ',', 'U']\n",
      "(['Forex', 'N'], ['Triple', 'N'], ['Force', 'N'], ['Robot', 'N'], ['https://t.co/3hadhmCORw', 'U']) ['^', '^', '^', '^', 'U']\n",
      "(['Bored😧', '!'],) ['^']\n",
      "(['foreshadowing', 'N'], ['😪', 'E'], ['https://t.co/NPMZHXrXoW', 'U']) ['S', 'G', 'U']\n",
      "(['Lemme', 'L'], ['eat', 'V'], ['that', 'D'], ['cooch', 'N'], ['giiiiirl', 'N']) ['L', 'V', 'P', '^', '^']\n",
      "(['vore', '^'], ['m', 'V']) ['G', 'G']\n",
      "(['Goaaaaaaals', 'N'], ['😭😭😭', 'E'], ['https://t.co/jerH2YyV7k', 'U']) ['S', 'G', 'U']\n",
      "([\"root'n\", 'N'], [\"thoot'n\", '&'], [\"shoot'n\", 'V']) ['Z', 'G', 'G']\n",
      "(['Architecture', 'N'],) ['^']\n",
      "(['@Tay_Brink', '@'], ['preach', 'V'], ['Tayler', '^'], ['👏🏻', '^']) ['@', 'S', 'N', 'E']\n",
      "(['Shayyyy', '^'], ['👸🏽', '^'], ['https://t.co/ANsEURWDvp', 'U']) ['S', 'G', 'U']\n",
      "(['THE', 'D'], ['THRONE', 'N'], ['😱', 'E']) ['D', 'G', 'G']\n",
      "(['Darling', 'N'], ['Taylin', 'N'], ['https://t.co/UeY9mzvxUf', 'U']) ['S', 'G', 'U']\n",
      "(['HOTESUR', '!'],) ['^']\n",
      "(['Black', 'A'], ['Onyx', '^'], ['&', '&'], ['925', '$'], ['Sterling', 'N'], ['Silver', 'N'], ['Ring', 'V'], ['Us', 'O'], ['Size', 'N'], ['8.5', '$'], ['L4-11648', 'G'], ['https://t.co/tOWLCDk5Nc', 'U'], ['https://t.co/ksD0vVP4RW', 'U']) ['^', '^', '&', '^', '^', '^', '^', '^', '^', '$', 'N', 'U', 'U']\n",
      "(['SHAAARP', 'A'],) ['^']\n",
      "(['Bosen', '^'], ['-.-', 'E']) ['S', '!']\n",
      "(['@AmusementBuzz', '@'], ['Tallest', 'A'], ['waterslide', 'N'], ['eva', 'N'], ['!', ',']) ['@', 'Z', '^', '^', ',']\n",
      "(['BEEF', 'N'], ['KEEMA', 'N'], ['STUFFED', 'V'], ['CHAPPATI', 'N'], ['https://t.co/Eu7rgPd5Oq', 'U']) ['^', '^', 'V', 'G', 'U']\n",
      "(['8L3$$eD', '^'], ['t¥G', '^'], ['☝🏻️☝🏽☝🏿', '^']) ['$', 'G', 'G']\n",
      "(['RT', '~'], ['@xxxMxGxWxVxxx', '@'], [':', '~'], ['🎼ＲＥＴＷＥＥＴ', '^'], ['🎼ＩＦ', '^'], ['🎼ＹＯＵ', '^'], ['🎼ＷＡＮＴ', '^'], ['🎼ＦＯＬＬＯＷＥＲＳ', '^'], ['🎼', '^'], ['#MGWV', '^'], ['🎼', '^'], ['#FollowTrick', '^'], ['🎼', '^'], ['#TeamFollowBack', '^'], ['🎼', '^'], ['#AnotherFollowTrain', '^'], ['🎼#ＦＯＬＬＯＷ', '^'], ['☜', 'G'], ['~', 'G'], ['(', ','], ['●̮̃•', '~'], ['…', ',']) ['~', '@', '~', 'E', 'E', 'E', 'E', 'E', 'E', '#', 'E', '#', 'E', '#', 'E', '#', 'E', 'E', 'G', ',', '^', ',']\n",
      "(['Stupidity', 'N'], ['😷😷', ',']) ['!', 'E']\n",
      "(['So', 'P'], ['full🐷', 'A']) ['R', '!']\n",
      "(['So', 'P'], ['tired', 'A'], ['😴😴', ',']) ['R', 'A', 'E']\n",
      "(['Okeyyyy', '!'],) ['^']\n",
      "(['Thunderclap', '^'], ['Newman', '^'], ['https://t.co/vvlHOHPTmS', 'U']) ['S', 'G', 'U']\n",
      "Accuracy = 0.918654492509083\n"
     ]
    }
   ],
   "source": [
    "tg_smoothed = trigram_linear_interpolation(tags_overall, unigram_prob_dict, bigram_prob_dict, trigram_prob_dict, 0.8, 0.15,0.05)\n",
    "accuracy, cnf_mat = get_metrics_ea_cnf(3, tags_overall, tg_smoothed, train_emission_prob, dev_tweets, ea=True)\n",
    "print (\"Accuracy =\", accuracy)"
   ]
  },
  {
   "cell_type": "code",
   "execution_count": 283,
   "metadata": {},
   "outputs": [
    {
     "name": "stdout",
     "output_type": "stream",
     "text": [
      "['^']\n"
     ]
    }
   ],
   "source": [
    "# tt = dev_tweets[1103]\n",
    "# sent = []\n",
    "# taggs = []\n",
    "# for pair in tt:\n",
    "#     sent.append(pair[0])\n",
    "#     taggs.append(pair[1])\n",
    "# predd = trigram_viterbi(tags_overall, tg_smoothed, train_emission_prob, sent)\n",
    "# print (predd)"
   ]
  },
  {
   "cell_type": "code",
   "execution_count": 224,
   "metadata": {},
   "outputs": [
    {
     "name": "stderr",
     "output_type": "stream",
     "text": [
      "/home/lilly/anaconda3/lib/python3.6/site-packages/matplotlib/cbook/deprecation.py:107: MatplotlibDeprecationWarning: Adding an axes using the same arguments as a previous axes currently reuses the earlier instance.  In a future version, a new instance will always be created and returned.  Meanwhile, this warning can be suppressed, and the future behavior ensured, by passing a unique label to each axes instance.\n",
      "  warnings.warn(message, mplDeprecation, stacklevel=1)\n"
     ]
    },
    {
     "data": {
      "image/png": "[encoded data removed]",
      "text/plain": [
       "<Figure size 1080x1080 with 2 Axes>"
      ]
     },
     "metadata": {},
     "output_type": "display_data"
    },
    {
     "data": {
      "text/plain": [
       "<Figure size 1080x1080 with 0 Axes>"
      ]
     },
     "metadata": {},
     "output_type": "display_data"
    }
   ],
   "source": [
    "plot_confusion_matrix(cnf_mat, tags_overall, \"Confusion Matrix on Dev Set - Trigram\", \"cnf_dev_tg\")"
   ]
  },
  {
   "cell_type": "code",
   "execution_count": 228,
   "metadata": {
    "scrolled": false
   },
   "outputs": [
    {
     "name": "stdout",
     "output_type": "stream",
     "text": [
      "Accuracy = 0.9164207118860764\n"
     ]
    },
    {
     "name": "stderr",
     "output_type": "stream",
     "text": [
      "/home/lilly/anaconda3/lib/python3.6/site-packages/matplotlib/cbook/deprecation.py:107: MatplotlibDeprecationWarning: Adding an axes using the same arguments as a previous axes currently reuses the earlier instance.  In a future version, a new instance will always be created and returned.  Meanwhile, this warning can be suppressed, and the future behavior ensured, by passing a unique label to each axes instance.\n",
      "  warnings.warn(message, mplDeprecation, stacklevel=1)\n"
     ]
    },
    {
     "data": {
      "image/png": "[encoded data removed]",
      "text/plain": [
       "<Figure size 1080x1080 with 2 Axes>"
      ]
     },
     "metadata": {},
     "output_type": "display_data"
    },
    {
     "data": {
      "text/plain": [
       "<Figure size 1080x1080 with 0 Axes>"
      ]
     },
     "metadata": {},
     "output_type": "display_data"
    }
   ],
   "source": [
    "accuracy, cnf_mat_test = get_metrics_ea_cnf(3, tags_overall, tg_smoothed, test_emission_prob, test_tweets, ea=False)\n",
    "print (\"Accuracy =\", accuracy)\n",
    "plot_confusion_matrix(cnf_mat_test, tags_overall, \"Confusion Matrix on Test Set - Trigram\", \"cnf_test_tg\")"
   ]
  }
 ],
 "metadata": {
  "kernelspec": {
   "display_name": "Python 3",
   "language": "python",
   "name": "python3"
  },
  "language_info": {
   "codemirror_mode": {
    "name": "ipython",
    "version": 3
   },
   "file_extension": ".py",
   "mimetype": "text/x-python",
   "name": "python",
   "nbconvert_exporter": "python",
   "pygments_lexer": "ipython3",
   "version": "3.6.4"
  }
 },
 "nbformat": 4,
 "nbformat_minor": 2
}
