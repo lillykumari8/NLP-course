{
 "cells": [
  {
   "cell_type": "code",
   "execution_count": 123,
   "metadata": {},
   "outputs": [],
   "source": [
    "## loading required libraries\n",
    "import math\n",
    "import re\n",
    "import sys\n",
    "import time\n",
    "import json\n",
    "import itertools\n",
    "import string\n",
    "import pandas as pd\n",
    "import numpy as np\n",
    "import matplotlib.pyplot as plt\n",
    "from sklearn.metrics import accuracy_score, confusion_matrix, classification_report\n",
    "from scipy.sparse import csr_matrix\n",
    "import pickle as pkl"
   ]
  },
  {
   "cell_type": "code",
   "execution_count": 124,
   "metadata": {},
   "outputs": [],
   "source": [
    "# Global variables\n",
    "START_TOKEN = \"<start>\"\n",
    "STOP_TOKEN = \"<stop>\"\n",
    "UNK_TOKEN = '<unk>'"
   ]
  },
  {
   "cell_type": "code",
   "execution_count": 125,
   "metadata": {},
   "outputs": [],
   "source": [
    "# reading file given filepath, not very much used\n",
    "def read_file(filepath):\n",
    "    with open(filepath, 'r') as f:\n",
    "        data = f.readlines()\n",
    "    return data"
   ]
  },
  {
   "cell_type": "code",
   "execution_count": 126,
   "metadata": {},
   "outputs": [
    {
     "name": "stdout",
     "output_type": "stream",
     "text": [
      "3000\n"
     ]
    }
   ],
   "source": [
    "data = read_file('conll03_ner/eng.train.small')\n",
    "\n",
    "count = 0\n",
    "for i in range(len(data)):\n",
    "    if len(data[i].strip().split()) < 4:\n",
    "        count += 1\n",
    "print (count)"
   ]
  },
  {
   "cell_type": "code",
   "execution_count": 127,
   "metadata": {},
   "outputs": [],
   "source": [
    "# to read file line by line and return a list containing sentences. Sentences contain tuples of 4 objects\n",
    "def read_file_linebyline(filepath):\n",
    "    \n",
    "    with open(filepath, 'r') as f:\n",
    "        data = f.readlines()\n",
    "    \n",
    "    all_sentences = []\n",
    "    sent = []\n",
    "     \n",
    "    for line in data:\n",
    "        columns = line.strip().split()\n",
    "        if len(columns) == 4:\n",
    "            if '-DOCSTART-' not in columns:\n",
    "                sent.append(tuple(columns))\n",
    "        else:\n",
    "            all_sentences.append(sent)\n",
    "            sent = []\n",
    "    return all_sentences"
   ]
  },
  {
   "cell_type": "code",
   "execution_count": 128,
   "metadata": {},
   "outputs": [],
   "source": [
    "dev_sentences = read_file_linebyline('conll03_ner/eng.dev.small')\n",
    "train_sentences = read_file_linebyline('conll03_ner/eng.train.small')"
   ]
  },
  {
   "cell_type": "code",
   "execution_count": 196,
   "metadata": {},
   "outputs": [],
   "source": [
    "ner_tags = {}\n",
    "unigrams = set()"
   ]
  },
  {
   "cell_type": "code",
   "execution_count": 197,
   "metadata": {},
   "outputs": [],
   "source": [
    "# defining REGEX for various unigram based features (local)\n",
    "\n",
    "HAS_NUM = re.compile(r'\\w+\\d+\\w+')\n",
    "IS_NUM = re.compile(r'[+-]?\\d+(\\,\\d+)?\\.?\\d*$')\n",
    "IS_INT = re.compile(r'\\d+$')\n",
    "\n",
    "\n",
    "HAS_HYPHEN = re.compile(r'[a-zA-Z]+\\-[a-zA-Z]+')\n",
    "IS_HYPHEN = re.compile(r'\\-+')\n",
    "\n",
    "HAS_PERIOD = re.compile(r'[a-zA-Z]+\\.$')\n",
    "IS_PERIOD = re.compile(r'\\.+')\n",
    "\n",
    "HAS_APOS = re.compile(r'\\w+\\'\\w+')\n",
    "HAS_DAPOS = re.compile(r'\\w+\\\"\\w+')\n",
    "IS_APOS = re.compile(r'\\'')\n",
    "IS_DAPOS = re.compile(r'\\\"')\n",
    "\n",
    "HAS_COLON = re.compile(r'\\w+\\:\\w+') \n",
    "IS_COLON = re.compile(r'\\:')\n",
    "HAS_SCOLON = re.compile(r'\\w+\\;\\w+')\n",
    "IS_SCOLON = re.compile(r'\\;')\n",
    "\n",
    "VERB_S = re.compile('\\w+s$')\n",
    "VERB_ED = re.compile('\\w+ed$')\n",
    "VERB_ING = re.compile('\\w+ing$')\n",
    "                       \n",
    "ALL_CAPS = re.compile(r'[A-Z]+$')\n",
    "FIRST_CAP = re.compile(r'[A-Z][a-z]+')\n",
    "SINGLE_CAP = re.compile(r'[A-Z]$')\n",
    "IN_BETWEEN_CAPs = re.compile(r'[A-Z]+[a-z]+[A-Z]+[a-z]+')\n",
    "\n",
    "word_based_features = ['has_num', 'is_num', 'is_int', 'has_hyphen', 'is_hyphen', 'has_period', 'is_period',\n",
    "                       'has_apos', 'has_dapos', 'is_apos', 'is_dapos', 'has_colon', 'is_colon', 'has_scolon',\n",
    "                       'is_scolon', 'verb_s', 'verb_ed', 'verb_ing', 'all_caps',\n",
    "                       'first_cap', 'single_cap', 'in_between_caps']"
   ]
  },
  {
   "cell_type": "code",
   "execution_count": 198,
   "metadata": {},
   "outputs": [],
   "source": [
    "features_dict = {}\n",
    "remove_threshold = 3"
   ]
  },
  {
   "cell_type": "code",
   "execution_count": 199,
   "metadata": {},
   "outputs": [],
   "source": [
    "# just initialization, initializing a features dictionary as we parse through the data and creating \n",
    "# various unigram based features\n",
    "\n",
    "def create_feature_dict(data):\n",
    "    \n",
    "    unigrams_ne = {}\n",
    "    len_ne = {}\n",
    "    pos_ne = {}\n",
    "    synchunk_ne = {}\n",
    "    suffix_ne = {}\n",
    "    prefix_ne = {}\n",
    "    xxxxx_ne = {}\n",
    "    xxxxx_no_ne = {}\n",
    "    count_xxxxx_ne = {}\n",
    "    count_xxxxx_no_ne = {}\n",
    "    \n",
    "    for line in data:\n",
    "        columns = line.strip().split()\n",
    "        if len(columns) == 4:\n",
    "            if '-DOCSTART-' not in columns:\n",
    "                ner = columns[3]\n",
    "                m_ner = \"_\" + ner\n",
    "                ner_tags[ner] = ner_tags.get(ner, 0) + 1\n",
    "                \n",
    "                word = columns[0]\n",
    "                l_word = re.sub('\\d', '0', word).lower()\n",
    "                \n",
    "                unigram_ne = l_word + m_ner\n",
    "                unigrams_ne[unigram_ne] = unigrams_ne.get(unigram_ne, 0) + 1\n",
    "                \n",
    "                le_ne = str(len(word)) + m_ner\n",
    "                len_ne[le_ne] = len_ne.get(le_ne, 0) + 1\n",
    "                \n",
    "                for feature in word_based_features:\n",
    "                    feature = feature + m_ner\n",
    "                    features_dict[feature] = features_dict.get(feature, 0) + 1\n",
    "\n",
    "                    \n",
    "                for feature in word_based_features:\n",
    "                    features_dict[feature] = features_dict.get(feature, 0) + 1\n",
    "\n",
    "                pos = columns[1] + m_ner\n",
    "                pos_ne[pos] = pos_ne.get(pos, 0) + 1\n",
    "                \n",
    "                synchunk = columns[2] + m_ner\n",
    "                synchunk_ne[synchunk] = synchunk_ne.get(synchunk, 0) + 1\n",
    "                \n",
    "                \n",
    "                xxxxx = re.sub('[A-Z]', 'X', word)\n",
    "                xxxxx = re.sub('[a-z]', 'x', xxxxx)\n",
    "                xxxxx = re.sub('#', '#', xxxxx)\n",
    "                xxxxx = re.sub('[0-9]', '0', xxxxx)\n",
    "                xxxxx = re.sub('[^a-zA-Z0-9#]', '.', xxxxx)\n",
    "                \n",
    "                xxxxx_no_ne[xxxxx] = xxxxx_no_ne.get(xxxxx, 0) + 1\n",
    "                xxxxx_ne[xxxxx+m_ner] = xxxxx_ne.get(xxxxx+m_ner, 0) + 1\n",
    "\n",
    "                count_xxxxx = re.sub('X+', 'X', xxxxx)\n",
    "                count_xxxxx= re.sub('x+', 'x', count_xxxxx)\n",
    "                count_xxxxx = re.sub('#+', '#', count_xxxxx)\n",
    "                count_xxxxx = re.sub('0+', '0', count_xxxxx)\n",
    "                count_xxxxx = re.sub('\\.+', '.', count_xxxxx)\n",
    "                \n",
    "                count_xxxxx_no_ne[count_xxxxx] = count_xxxxx_no_ne.get(count_xxxxx, 0) + 1\n",
    "                count_xxxxx_ne[count_xxxxx+m_ner] = count_xxxxx_ne.get(count_xxxxx+m_ner, 0) + 1\n",
    "                \n",
    "\n",
    "                if len(l_word) > 2:\n",
    "                    suffix1 = l_word[-2] + m_ner\n",
    "                    prefix1 = l_word[:2] + m_ner\n",
    "                    \n",
    "                    suffix_ne[suffix1] = suffix_ne.get(suffix1, 0) + 1\n",
    "                    prefix_ne[prefix1] = prefix_ne.get(prefix1, 0) + 1\n",
    "                    \n",
    "                if len(l_word) > 3:\n",
    "                    suffix2 = l_word[-3] + m_ner\n",
    "                    prefix2 = l_word[:3] + m_ner\n",
    "                    \n",
    "                    suffix_ne[suffix2] = suffix_ne.get(suffix2, 0) + 1\n",
    "                    prefix_ne[prefix2] = prefix_ne.get(prefix2, 0) + 1\n",
    "                    \n",
    "    \n",
    "    for key, value in unigrams_ne.items():\n",
    "        if value > remove_threshold:\n",
    "            feature = 'ug_' + key\n",
    "            unigrams.add(key)\n",
    "            features_dict[feature] = features_dict.get(feature, 0) + value\n",
    "        else:\n",
    "            feature = 'ug_' + UNK_TOKEN + \"_\" + key.split(\"_\")[-1]\n",
    "            features_dict[feature] = features_dict.get(feature, 0) + value\n",
    "            \n",
    "    for key, value in len_ne.items():\n",
    "        if value > remove_threshold:\n",
    "            feature = 'wordlength_' + key\n",
    "            features_dict[feature] = features_dict.get(feature, 0) + value\n",
    "            \n",
    "    for key, value in pos_ne.items():\n",
    "        if value > remove_threshold:\n",
    "            feature = 'pos_' + key\n",
    "            features_dict[feature] = features_dict.get(feature, 0) + value\n",
    "\n",
    "    for key, value in synchunk_ne.items():\n",
    "        if value > remove_threshold:\n",
    "            feature = 'synchunk_' + key\n",
    "            features_dict[feature] = features_dict.get(feature, 0) + value\n",
    "\n",
    "    for key, value in xxxxx_ne.items():\n",
    "        if value > remove_threshold:\n",
    "            feature = 'xxxxx_' + key\n",
    "            features_dict[feature] = features_dict.get(feature, 0) + value\n",
    "\n",
    "    for key, value in xxxxx_no_ne.items():\n",
    "        if value > remove_threshold:\n",
    "            feature = 'xxxxx_no_' + key\n",
    "            features_dict[feature] = features_dict.get(feature, 0) + value\n",
    "\n",
    "            \n",
    "    for key, value in count_xxxxx_ne.items():\n",
    "        if value > remove_threshold:\n",
    "            feature = 'countxxxxx_' + key\n",
    "            features_dict[feature] = features_dict.get(feature, 0) + value\n",
    "\n",
    "            \n",
    "    for key, value in count_xxxxx_no_ne.items():\n",
    "        if value > remove_threshold:\n",
    "            feature = 'countxxxxx_no_' + key\n",
    "            features_dict[feature] = features_dict.get(feature, 0) + value\n",
    "\n",
    "    for key, value in suffix_ne.items():\n",
    "        if value > remove_threshold:\n",
    "            feature = 'suffix_' + key\n",
    "            features_dict[feature] = features_dict.get(feature, 0) + value\n",
    "\n",
    "    for key, value in prefix_ne.items():\n",
    "        if value > remove_threshold:\n",
    "            feature = 'prefix_' + key\n",
    "            features_dict[feature] = features_dict.get(feature, 0) + value\n",
    "            \n",
    "    print (len(features_dict.keys()))\n",
    "    print (len(ner_tags.keys()))\n",
    "    print (len(unigrams))"
   ]
  },
  {
   "cell_type": "code",
   "execution_count": 200,
   "metadata": {},
   "outputs": [
    {
     "name": "stdout",
     "output_type": "stream",
     "text": [
      "4146\n",
      "8\n",
      "1426\n"
     ]
    }
   ],
   "source": [
    "create_feature_dict(data)"
   ]
  },
  {
   "cell_type": "code",
   "execution_count": 201,
   "metadata": {},
   "outputs": [
    {
     "data": {
      "text/plain": [
       "{'O': 34643,\n",
       " 'I-MISC': 943,\n",
       " 'I-LOC': 1677,\n",
       " 'I-ORG': 1996,\n",
       " 'I-PER': 2256,\n",
       " 'B-MISC': 8,\n",
       " 'B-LOC': 5,\n",
       " 'B-ORG': 8}"
      ]
     },
     "execution_count": 201,
     "metadata": {},
     "output_type": "execute_result"
    }
   ],
   "source": [
    "ner_tags"
   ]
  },
  {
   "cell_type": "code",
   "execution_count": 202,
   "metadata": {},
   "outputs": [],
   "source": [
    "features_index = {}\n",
    "i = 0\n",
    "for key in features_dict.keys():\n",
    "    features_index[key] = i\n",
    "    i += 1"
   ]
  },
  {
   "cell_type": "code",
   "execution_count": 203,
   "metadata": {},
   "outputs": [],
   "source": [
    "ner_index = {}\n",
    "i = 0\n",
    "for key in ner_tags.keys():\n",
    "    ner_index[key] = i\n",
    "    i += 1"
   ]
  },
  {
   "cell_type": "code",
   "execution_count": 204,
   "metadata": {},
   "outputs": [
    {
     "data": {
      "text/plain": [
       "{'O': 0,\n",
       " 'I-MISC': 1,\n",
       " 'I-LOC': 2,\n",
       " 'I-ORG': 3,\n",
       " 'I-PER': 4,\n",
       " 'B-MISC': 5,\n",
       " 'B-LOC': 6,\n",
       " 'B-ORG': 7}"
      ]
     },
     "execution_count": 204,
     "metadata": {},
     "output_type": "execute_result"
    }
   ],
   "source": [
    "ner_index"
   ]
  },
  {
   "cell_type": "code",
   "execution_count": 205,
   "metadata": {},
   "outputs": [],
   "source": [
    "ner_tags_list = list(ner_tags.keys())"
   ]
  },
  {
   "cell_type": "code",
   "execution_count": 206,
   "metadata": {},
   "outputs": [],
   "source": [
    "## given a list of sentences, this generates a dictionary of sentence indices which have their feature matrices as\n",
    "# values. The feature matrix are csr_matrix whose size = (num_of_tags * len_of_sentence, feature_vec_length)\n",
    "\n",
    "def gen_feature_matrix(sentences):\n",
    "    features_matrix = {}\n",
    "    N = len(ner_tags_list)\n",
    "    feature_vec_len = len(features_dict.keys())\n",
    "    for i in range(len(sentences)):\n",
    "        sentence = sentences[i]\n",
    "        count_tokens = len(sentence)\n",
    "        \n",
    "        temp_matrix = csr_matrix((N*count_tokens, feature_vec_len))\n",
    "        \n",
    "        for j in range(count_tokens):\n",
    "            \n",
    "            for k in range(N):\n",
    "                \n",
    "                feature_vec = np.zeros(len(features_dict.keys()))\n",
    "                columns = sentence[j]\n",
    "                ner_tag = ner_tags_list[k]\n",
    "                \n",
    "                if len(columns) == 4:\n",
    "                    if '-DOCSTART-' not in columns:\n",
    "                        m_ner = \"_\" + ner_tag\n",
    "                        \n",
    "                        word = columns[0]\n",
    "                        l_word = re.sub('\\d', '0', word).lower()\n",
    "                \n",
    "                        unigram_ne = 'ug_' + l_word + m_ner\n",
    "                        if unigram_ne in features_dict.keys():\n",
    "                            feature_vec[features_index[unigram_ne]] = 1\n",
    "                        elif 'ug_' + UNK_TOKEN + m_ner in features_dict.keys():\n",
    "                            feature_vec[features_index['ug_' + UNK_TOKEN + m_ner]] = 1\n",
    "                            \n",
    "                        le_ne = 'wordlength_' + str(len(word)) + m_ner\n",
    "                        if le_ne in features_dict.keys():\n",
    "                            feature_vec[features_index[le_ne]] = 1\n",
    "                        \n",
    "                        pos = 'pos_' + columns[1] + m_ner\n",
    "                        if pos in features_dict.keys():\n",
    "                            feature_vec[features_index[pos]] = 1\n",
    "                        \n",
    "                        synchunk = 'synchunk_' + columns[2] + m_ner\n",
    "                        if synchunk in features_dict.keys():\n",
    "                            feature_vec[features_index[synchunk]] = 1\n",
    "                            \n",
    "                        xxxxx = re.sub('[A-Z]', 'X', word)\n",
    "                        xxxxx = re.sub('[a-z]', 'x', xxxxx)\n",
    "                        xxxxx = re.sub('#', '#', xxxxx)\n",
    "                        xxxxx = re.sub('[0-9]', '0', xxxxx)\n",
    "                        \n",
    "                        \n",
    "                        xxxxx = re.sub('[^A-Za-z0-9#]', '.', xxxxx)\n",
    "                        \n",
    "                        if xxxxx in features_dict.keys():\n",
    "                            feature_vec[features_index[xxxxx]] = 1\n",
    "                \n",
    "                        xxx = 'xxxxx_' + xxxxx + m_ner\n",
    "                        if xxx in features_dict.keys():\n",
    "                            feature_vec[features_index[xxx]] = 1\n",
    "                            \n",
    "                        count_xxxxx = re.sub('X+', 'X', xxxxx)\n",
    "                        count_xxxxx= re.sub('x+', 'x', count_xxxxx)\n",
    "                        count_xxxxx = re.sub('#+', '#', count_xxxxx)\n",
    "                        count_xxxxx = re.sub('0+', '0', count_xxxxx)\n",
    "                        count_xxxxx = re.sub('\\.+', '.', count_xxxxx)\n",
    "                        \n",
    "                        if count_xxxxx in features_dict.keys():\n",
    "                            feature_vec[features_index[count_xxxxx]] = 1\n",
    "                        \n",
    "                        c_xxx = 'countxxxxx_' + count_xxxxx + m_ner\n",
    "                        if c_xxx in features_dict.keys():\n",
    "                            feature_vec[features_index[c_xxx]] = 1\n",
    "\n",
    "                                        \n",
    "                        if len(l_word) > 2:\n",
    "                            suffix1 = 'suffix_' + l_word[-2] + m_ner\n",
    "                            prefix1 = 'prefix_' + l_word[:2] + m_ner\n",
    "                            if suffix1 in features_dict.keys():\n",
    "                                feature_vec[features_index[suffix1]] = 1\n",
    "                            if prefix1 in features_dict.keys():\n",
    "                                feature_vec[features_index[prefix1]] = 1\n",
    "\n",
    "                        if len(l_word) > 3:\n",
    "                            suffix2 = 'suffix_' + l_word[-3] + m_ner\n",
    "                            prefix2 = 'prefix_' + l_word[:3] + m_ner\n",
    "                            if suffix2 in features_dict.keys():\n",
    "                                feature_vec[features_index[suffix2]] = 1\n",
    "                            if prefix2 in features_dict.keys():\n",
    "                                feature_vec[features_index[prefix2]] = 1\n",
    "                        \n",
    "                        if HAS_NUM.match(word):\n",
    "                            name = 'has_num'\n",
    "                            feature_vec[features_index[name]] = 1\n",
    "                            feature_vec[features_index[name + m_ner]] = 1\n",
    "\n",
    "                        if IS_NUM.match(word):\n",
    "                            name = 'is_num'\n",
    "                            feature_vec[features_index[name]] = 1\n",
    "                            feature_vec[features_index[name + m_ner]] = 1\n",
    "                            \n",
    "                        if IS_INT.match(word):\n",
    "                            name = 'is_int'\n",
    "                            feature_vec[features_index[name]] = 1\n",
    "                            feature_vec[features_index[name + m_ner]] = 1\n",
    "                            \n",
    "                        if HAS_HYPHEN.match(word):\n",
    "                            name = 'has_hyphen'\n",
    "                            feature_vec[features_index[name]] = 1\n",
    "                            feature_vec[features_index[name + m_ner]] = 1\n",
    "                            \n",
    "                        if IS_HYPHEN.match(word):\n",
    "                            name = 'is_hyphen'\n",
    "                            feature_vec[features_index[name]] = 1\n",
    "                            feature_vec[features_index[name + m_ner]] = 1\n",
    "                            \n",
    "                        if HAS_PERIOD.match(word):\n",
    "                            name = 'has_period'\n",
    "                            feature_vec[features_index[name]] = 1\n",
    "                            feature_vec[features_index[name + m_ner]] = 1\n",
    "                            \n",
    "                        if IS_PERIOD.match(word):\n",
    "                            name = 'is_period'\n",
    "                            feature_vec[features_index[name]] = 1\n",
    "                            feature_vec[features_index[name + m_ner]] = 1\n",
    "                            \n",
    "                        if HAS_APOS.match(word):\n",
    "                            name = 'has_apos'\n",
    "                            feature_vec[features_index[name]] = 1\n",
    "                            feature_vec[features_index[name + m_ner]] = 1\n",
    "                            \n",
    "                        if HAS_DAPOS.match(word):\n",
    "                            name = 'has_dapos'\n",
    "                            feature_vec[features_index[name]] = 1\n",
    "                            feature_vec[features_index[name + m_ner]] = 1\n",
    "                            \n",
    "                        if IS_APOS.match(word):\n",
    "                            name = 'is_apos'\n",
    "                            feature_vec[features_index[name]] = 1\n",
    "                            feature_vec[features_index[name + m_ner]] = 1\n",
    "                            \n",
    "                        if IS_DAPOS.match(word):\n",
    "                            name = 'is_dapos'\n",
    "                            feature_vec[features_index[name]] = 1\n",
    "                            feature_vec[features_index[name + m_ner]] = 1\n",
    "                            \n",
    "                        if HAS_COLON.match(word):\n",
    "                            name = 'has_colon'\n",
    "                            feature_vec[features_index[name]] = 1\n",
    "                            feature_vec[features_index[name + m_ner]] = 1\n",
    "                            \n",
    "                        if IS_COLON.match(word):\n",
    "                            name = 'is_colon'\n",
    "                            feature_vec[features_index[name]] = 1\n",
    "                            feature_vec[features_index[name + m_ner]] = 1\n",
    "                            \n",
    "                        if HAS_SCOLON.match(word):\n",
    "                            name = 'has_scolon'\n",
    "                            feature_vec[features_index[name]] = 1\n",
    "                            feature_vec[features_index[name + m_ner]] = 1\n",
    "                            \n",
    "                        if IS_SCOLON.match(word):\n",
    "                            name = 'is_scolon'\n",
    "                            feature_vec[features_index[name]] = 1\n",
    "                            feature_vec[features_index[name + m_ner]] = 1\n",
    "                            \n",
    "                        if VERB_S.match(word):\n",
    "                            name = 'verb_s'\n",
    "                            feature_vec[features_index[name]] = 1\n",
    "                            feature_vec[features_index[name + m_ner]] = 1\n",
    "                            \n",
    "                        \n",
    "                        if VERB_ED.match(word):\n",
    "                            name = 'verb_ed'\n",
    "                            feature_vec[features_index[name]] = 1\n",
    "                            feature_vec[features_index[name + m_ner]] = 1\n",
    "                            \n",
    "                        if VERB_ING.match(word):\n",
    "                            name = 'verb_ing'\n",
    "                            feature_vec[features_index[name]] = 1\n",
    "                            feature_vec[features_index[name + m_ner]] = 1\n",
    "                            \n",
    "                        if ALL_CAPS.match(word):\n",
    "                            name = 'all_caps'\n",
    "                            feature_vec[features_index[name]] = 1\n",
    "                            feature_vec[features_index[name + m_ner]] = 1\n",
    "                            \n",
    "                        if FIRST_CAP.match(word):\n",
    "                            name = 'first_cap'\n",
    "                            feature_vec[features_index[name]] = 1\n",
    "                            feature_vec[features_index[name + m_ner]] = 1\n",
    "                            \n",
    "                        if SINGLE_CAP.match(word):\n",
    "                            name = 'single_cap'\n",
    "                            feature_vec[features_index[name]] = 1\n",
    "                            feature_vec[features_index[name + m_ner]] = 1\n",
    "                            \n",
    "                        if IN_BETWEEN_CAPs.match(word):\n",
    "                            name = 'in_between_caps'\n",
    "                            feature_vec[features_index[name]] = 1\n",
    "                            feature_vec[features_index[name + m_ner]] = 1\n",
    "                            \n",
    "#                 print (feature_vec.shape, temp_matrix[j*N + k, :].shape)\n",
    "    \n",
    "                temp_matrix[j*N + k, :] = csr_matrix(feature_vec)\n",
    "        features_matrix[i] = temp_matrix\n",
    "    return features_matrix"
   ]
  },
  {
   "cell_type": "code",
   "execution_count": 207,
   "metadata": {},
   "outputs": [
    {
     "name": "stderr",
     "output_type": "stream",
     "text": [
      "/home/lilly/anaconda3/lib/python3.6/site-packages/scipy/sparse/compressed.py:746: SparseEfficiencyWarning: Changing the sparsity structure of a csr_matrix is expensive. lil_matrix is more efficient.\n",
      "  SparseEfficiencyWarning)\n"
     ]
    }
   ],
   "source": [
    "train_feature_matrix = gen_feature_matrix(train_sentences)\n",
    "dev_feature_matrix = gen_feature_matrix(dev_sentences)"
   ]
  },
  {
   "cell_type": "code",
   "execution_count": 208,
   "metadata": {},
   "outputs": [],
   "source": [
    "# this generates a gloabl feature vector for a particular sentence (indexed by i) given its NER tags\n",
    "def get_feature_vector(sentences, feature_matrix, i, gt_labels):\n",
    "    sentence = sentences[i]\n",
    "    temp_matrix = feature_matrix[i]\n",
    "    \n",
    "    N = len(ner_tags_list)\n",
    "    count_tokens = len(sentence)\n",
    "    \n",
    "    feature_vec = csr_matrix((1, len(features_dict.keys())))\n",
    "    for i in range(count_tokens):\n",
    "        if i == 0:\n",
    "            idx = i*N + gt_labels[i]\n",
    "            feature_vec = feature_vec + temp_matrix[idx, :]\n",
    "        else:\n",
    "            idx = i*N + gt_labels[i]\n",
    "            idx_prev = (i-1)*N + gt_labels[i-1]\n",
    "            feature_vec = feature_vec + temp_matrix[idx, :] + temp_matrix[idx_prev, :]\n",
    "        \n",
    "    return feature_vec"
   ]
  },
  {
   "cell_type": "code",
   "execution_count": 209,
   "metadata": {},
   "outputs": [],
   "source": [
    "# this creates training & validation data for perceptron learning. The outputs are dictionaries containing\n",
    "# feature vector and NER tags for all sentences (train & dev)\n",
    "def create_training_dev_dict(train_sentences, train_feature_matrix, dev_sentences, dev_feature_matrix):\n",
    "    \n",
    "    N = len(ner_tags_list)\n",
    "    train_feature_label = {}\n",
    "    dev_feature_label = {}\n",
    "    \n",
    "    for i in range(len(train_sentences)):\n",
    "        \n",
    "        gt_labels = []\n",
    "        sentence = train_sentences[i]\n",
    "        count_tokens = len(sentence)\n",
    "        for token in sentence:\n",
    "            gt_labels.append(ner_tags_list.index(token[3]))\n",
    "            \n",
    "        gt_feature = get_feature_vector(train_sentences, train_feature_matrix, i, gt_labels)\n",
    "        train_feature_label[i] = (gt_feature, gt_labels)\n",
    "        \n",
    "    for i in range(len(dev_sentences)):\n",
    "        \n",
    "        gt_labels = []\n",
    "        sentence = dev_sentences[i]\n",
    "        count_tokens = len(sentence)\n",
    "        for token in sentence:\n",
    "            gt_labels.append(ner_tags_list.index(token[3]))\n",
    "            \n",
    "        gt_feature = get_feature_vector(dev_sentences, dev_feature_matrix, i, gt_labels)\n",
    "        dev_feature_label[i] = (gt_feature, gt_labels)\n",
    "        \n",
    "    return train_feature_label, dev_feature_label"
   ]
  },
  {
   "cell_type": "code",
   "execution_count": 210,
   "metadata": {},
   "outputs": [],
   "source": [
    "train_feature_label, dev_feature_label = create_training_dev_dict(train_sentences, train_feature_matrix, dev_sentences, dev_feature_matrix)"
   ]
  },
  {
   "cell_type": "code",
   "execution_count": 214,
   "metadata": {},
   "outputs": [
    {
     "data": {
      "text/plain": [
       "4146"
      ]
     },
     "execution_count": 214,
     "metadata": {},
     "output_type": "execute_result"
    }
   ],
   "source": [
    "len(features_dict.keys())"
   ]
  },
  {
   "cell_type": "code",
   "execution_count": 227,
   "metadata": {},
   "outputs": [],
   "source": [
    "# performs viterbi decoding given weights array and a sentence i\n",
    "\n",
    "def viterbi_decoding(sentences, feature_matrix, i, weights):\n",
    "    S = len(sentences[i])\n",
    "    weights_t = weights.transpose()\n",
    "    N = len(ner_tags_list)\n",
    "    bp = {}\n",
    "    \n",
    "    temp_matrix = feature_matrix[i]  \n",
    "    pi = np.zeros((N,S))\n",
    "    if len(sentences[i]) != 0:\n",
    "        for k in range(N):\n",
    "    #         print(weights_t.shape)\n",
    "            score = (temp_matrix[0*N + k].dot(weights_t)).sum()\n",
    "            pi[k][0] = score\n",
    "            bp[k] = [k]\n",
    "\n",
    "        for s in range(1,S):\n",
    "            curr_bp = {}\n",
    "            for n in range(N):\n",
    "                max_score = -float('inf')\n",
    "                best_tag_idx = None\n",
    "                for j in range(N):\n",
    "                    temp_temp_matrix = temp_matrix[(s-1)*N + j] + temp_matrix[s*N + n]\n",
    "                    score = (temp_temp_matrix.dot(weights_t)).sum() + pi[j][s-1]\n",
    "                    if score > max_score:\n",
    "                        max_score = score\n",
    "                        best_tag_idx = j\n",
    "                        pi[n][s] = max_score\n",
    "                curr_bp[n] = bp[best_tag_idx] + [n]\n",
    "            bp = curr_bp\n",
    "        \n",
    "        max_score = -float('inf')\n",
    "        best_tag_idx = None\n",
    "        for n in range(N):\n",
    "            score = (temp_matrix[(S-1)*N + n].dot(weights_t)).sum() + pi[n][S-2]\n",
    "            if score > max_score:\n",
    "                max_score = score\n",
    "                best_tag_idx = n\n",
    "            \n",
    "        return bp[best_tag_idx]\n",
    "    \n",
    "    else:\n",
    "        return []"
   ]
  },
  {
   "cell_type": "code",
   "execution_count": 230,
   "metadata": {},
   "outputs": [],
   "source": [
    "# perceptron training on training data, T is the number of iterations\n",
    "\n",
    "def perceptron_training(train_feature_label, dev_feature_label, T):\n",
    "    \n",
    "    count = 0\n",
    "    weightss = np.random.rand(len(features_dict.keys()))\n",
    "#     weightss = weightss.reshape((1, len(features_dict.keys())))\n",
    "    print (weightss.shape)\n",
    "    print (weightss)\n",
    "    for i in range(T):\n",
    "        print (\"Iteration: \", i)\n",
    "        \n",
    "        for j in range(len(train_feature_label.keys())):\n",
    "            \n",
    "            gt_tag_indices = train_feature_label[j][1]\n",
    "            gt_feature_vec = train_feature_label[j][0]\n",
    "            \n",
    "            pred_tag_indices = viterbi_decoding(train_sentences, train_feature_matrix, j, weightss)\n",
    "            pred_feature_vec = get_feature_vector(train_sentences, train_feature_matrix, j, pred_tag_indices)\n",
    "            \n",
    "            if gt_tag_indices != pred_tag_indices:\n",
    "                \n",
    "                weightss = weightss.reshape((1, len(features_dict.keys())))\n",
    "                weightss = weightss + gt_feature_vec - pred_feature_vec\n",
    "                count += 1\n",
    "#                 print (weightss.shape, \"weights shape\")\n",
    "                \n",
    "            if j%250 == 0:\n",
    "                print (pred_tag_indices, \"----\", gt_tag_indices)\n",
    "                \n",
    "        if (i%2) == 0:\n",
    "            with open(\"weights__corrected__\" + str(i), 'wb') as f1:\n",
    "                pkl.dump(weightss, f1)\n",
    "\n",
    "    weightss /= count\n",
    "    return weightss"
   ]
  },
  {
   "cell_type": "code",
   "execution_count": 231,
   "metadata": {
    "scrolled": true
   },
   "outputs": [
    {
     "name": "stdout",
     "output_type": "stream",
     "text": [
      "(4146,)\n",
      "[0.53004325 0.13023226 0.83928279 ... 0.20569322 0.40885978 0.75097773]\n",
      "Iteration:  0\n",
      "[1, 4, 0, 0, 0, 0, 1, 0, 1, 0, 1, 0, 0, 0, 1, 4, 4, 4, 4, 4, 0, 0, 0, 0, 0, 0, 0, 0, 2, 1] ---- [0, 0, 0, 0, 0, 0, 0, 0, 0, 0, 0, 0, 0, 0, 1, 0, 0, 0, 0, 0, 0, 0, 0, 0, 0, 0, 0, 0, 0, 0]\n",
      "[0, 0, 0, 0, 0, 0, 0, 0, 0, 0, 0] ---- [3, 0, 0, 0, 0, 0, 0, 0, 0, 0, 0]\n",
      "[] ---- []\n",
      "[0, 0, 3, 0, 3, 0, 2, 0, 0, 0, 0, 0, 3, 0, 3, 2, 0, 0, 0, 0, 0] ---- [0, 0, 4, 4, 4, 0, 2, 0, 0, 0, 0, 4, 4, 0, 2, 2, 0, 0, 0, 0, 0]\n",
      "[0, 4, 4, 0, 2, 0, 0] ---- [0, 4, 4, 0, 2, 0, 0]\n",
      "[0, 0, 0, 0, 0, 0, 0, 0, 0] ---- [3, 0, 0, 0, 0, 0, 0, 0, 0]\n",
      "[4, 4, 0, 2, 0, 0, 4, 4, 0, 2, 0, 0, 0, 0, 0, 0, 0, 0, 0] ---- [4, 4, 0, 2, 0, 0, 4, 4, 0, 2, 0, 0, 0, 0, 0, 0, 0, 0, 0]\n",
      "[3, 0, 0, 0, 0, 0, 0, 0] ---- [3, 0, 0, 0, 0, 0, 0, 0]\n",
      "[1, 0, 0, 0, 0, 0, 0, 0, 0, 0, 0, 0, 0, 0, 0, 0, 0, 0, 0, 0, 0, 0] ---- [1, 0, 0, 0, 0, 0, 0, 0, 0, 0, 0, 0, 0, 0, 0, 0, 0, 0, 0, 0, 0, 0]\n",
      "[3, 0, 0, 0, 0, 0, 0, 0, 0] ---- [3, 3, 0, 0, 0, 0, 0, 0, 0]\n",
      "[0, 0, 0, 0, 0, 0, 0, 0, 0, 0, 0, 0, 0, 2, 0, 0, 0] ---- [0, 0, 0, 0, 0, 0, 0, 0, 0, 0, 0, 0, 0, 2, 0, 0, 0]\n",
      "[0, 0, 0, 0, 0, 0, 0, 0, 0, 0, 0, 0, 0, 0, 0, 0, 0, 0, 0, 0, 4, 0, 0, 0, 0, 0, 0, 0, 0, 0, 0, 0, 0, 0, 0, 0, 0, 0] ---- [0, 0, 0, 0, 0, 0, 0, 0, 0, 0, 0, 0, 0, 0, 0, 0, 0, 0, 2, 0, 2, 0, 0, 0, 0, 0, 0, 0, 0, 0, 0, 0, 0, 0, 0, 0, 0, 0]\n",
      "Iteration:  1\n",
      "[4, 0, 0, 0, 0, 0, 0, 0, 0, 0, 0, 0, 0, 0, 0, 0, 0, 0, 0, 0, 0, 0, 0, 0, 0, 0, 0, 0, 0, 0] ---- [0, 0, 0, 0, 0, 0, 0, 0, 0, 0, 0, 0, 0, 0, 1, 0, 0, 0, 0, 0, 0, 0, 0, 0, 0, 0, 0, 0, 0, 0]\n",
      "[1, 1, 3, 1, 0, 0, 0, 0, 0, 0, 0] ---- [3, 0, 0, 0, 0, 0, 0, 0, 0, 0, 0]\n",
      "[] ---- []\n",
      "[0, 0, 2, 0, 2, 0, 2, 0, 0, 0, 0, 0, 2, 0, 2, 2, 0, 0, 0, 0, 0] ---- [0, 0, 4, 4, 4, 0, 2, 0, 0, 0, 0, 4, 4, 0, 2, 2, 0, 0, 0, 0, 0]\n",
      "[0, 4, 4, 0, 2, 0, 0] ---- [0, 4, 4, 0, 2, 0, 0]\n",
      "[3, 0, 0, 0, 0, 0, 0, 0, 0] ---- [3, 0, 0, 0, 0, 0, 0, 0, 0]\n",
      "[4, 4, 0, 2, 0, 0, 4, 4, 0, 2, 0, 0, 0, 0, 0, 0, 0, 0, 0] ---- [4, 4, 0, 2, 0, 0, 4, 4, 0, 2, 0, 0, 0, 0, 0, 0, 0, 0, 0]\n",
      "[0, 0, 0, 0, 0, 0, 0, 0] ---- [3, 0, 0, 0, 0, 0, 0, 0]\n",
      "[1, 0, 0, 0, 0, 0, 0, 0, 0, 0, 0, 0, 0, 0, 0, 0, 0, 0, 0, 0, 0, 0] ---- [1, 0, 0, 0, 0, 0, 0, 0, 0, 0, 0, 0, 0, 0, 0, 0, 0, 0, 0, 0, 0, 0]\n",
      "[3, 0, 0, 0, 0, 0, 0, 0, 0] ---- [3, 3, 0, 0, 0, 0, 0, 0, 0]\n",
      "[0, 0, 0, 0, 0, 0, 0, 0, 0, 0, 0, 0, 0, 2, 0, 0, 0] ---- [0, 0, 0, 0, 0, 0, 0, 0, 0, 0, 0, 0, 0, 2, 0, 0, 0]\n",
      "[0, 0, 0, 0, 0, 0, 0, 0, 0, 0, 0, 0, 0, 0, 0, 0, 0, 0, 4, 0, 3, 0, 0, 0, 0, 0, 0, 0, 0, 0, 0, 0, 0, 0, 0, 0, 0, 0] ---- [0, 0, 0, 0, 0, 0, 0, 0, 0, 0, 0, 0, 0, 0, 0, 0, 0, 0, 2, 0, 2, 0, 0, 0, 0, 0, 0, 0, 0, 0, 0, 0, 0, 0, 0, 0, 0, 0]\n",
      "Iteration:  2\n",
      "[0, 0, 0, 0, 0, 0, 0, 0, 0, 0, 0, 0, 0, 0, 4, 0, 0, 0, 0, 0, 0, 0, 0, 0, 0, 0, 0, 0, 0, 0] ---- [0, 0, 0, 0, 0, 0, 0, 0, 0, 0, 0, 0, 0, 0, 1, 0, 0, 0, 0, 0, 0, 0, 0, 0, 0, 0, 0, 0, 0, 0]\n",
      "[1, 1, 3, 1, 0, 0, 0, 0, 0, 0, 0] ---- [3, 0, 0, 0, 0, 0, 0, 0, 0, 0, 0]\n",
      "[] ---- []\n",
      "[0, 0, 4, 4, 2, 0, 2, 0, 0, 0, 0, 0, 0, 0, 2, 2, 0, 0, 0, 0, 0] ---- [0, 0, 4, 4, 4, 0, 2, 0, 0, 0, 0, 4, 4, 0, 2, 2, 0, 0, 0, 0, 0]\n",
      "[0, 4, 4, 0, 2, 0, 0] ---- [0, 4, 4, 0, 2, 0, 0]\n",
      "[3, 0, 0, 0, 0, 0, 0, 0, 0] ---- [3, 0, 0, 0, 0, 0, 0, 0, 0]\n",
      "[4, 4, 0, 2, 0, 0, 4, 4, 0, 2, 0, 0, 0, 0, 0, 0, 0, 0, 0] ---- [4, 4, 0, 2, 0, 0, 4, 4, 0, 2, 0, 0, 0, 0, 0, 0, 0, 0, 0]\n",
      "[3, 0, 0, 0, 0, 0, 0, 0] ---- [3, 0, 0, 0, 0, 0, 0, 0]\n",
      "[1, 0, 0, 0, 0, 0, 0, 0, 0, 0, 0, 0, 0, 0, 0, 0, 0, 0, 0, 0, 0, 0] ---- [1, 0, 0, 0, 0, 0, 0, 0, 0, 0, 0, 0, 0, 0, 0, 0, 0, 0, 0, 0, 0, 0]\n",
      "[3, 0, 0, 0, 0, 0, 0, 0, 0] ---- [3, 3, 0, 0, 0, 0, 0, 0, 0]\n",
      "[0, 0, 0, 0, 0, 0, 0, 0, 0, 0, 0, 0, 0, 2, 0, 0, 0] ---- [0, 0, 0, 0, 0, 0, 0, 0, 0, 0, 0, 0, 0, 2, 0, 0, 0]\n",
      "[0, 0, 0, 0, 0, 0, 0, 0, 0, 0, 0, 0, 0, 0, 0, 0, 0, 0, 3, 0, 4, 0, 0, 0, 0, 0, 0, 0, 0, 0, 0, 0, 0, 0, 0, 0, 0, 0] ---- [0, 0, 0, 0, 0, 0, 0, 0, 0, 0, 0, 0, 0, 0, 0, 0, 0, 0, 2, 0, 2, 0, 0, 0, 0, 0, 0, 0, 0, 0, 0, 0, 0, 0, 0, 0, 0, 0]\n",
      "Iteration:  3\n",
      "[4, 0, 0, 0, 0, 0, 0, 0, 0, 0, 0, 0, 0, 0, 3, 0, 0, 0, 0, 0, 0, 0, 0, 0, 0, 0, 0, 0, 0, 0] ---- [0, 0, 0, 0, 0, 0, 0, 0, 0, 0, 0, 0, 0, 0, 1, 0, 0, 0, 0, 0, 0, 0, 0, 0, 0, 0, 0, 0, 0, 0]\n",
      "[1, 0, 0, 1, 0, 0, 0, 0, 0, 0, 0] ---- [3, 0, 0, 0, 0, 0, 0, 0, 0, 0, 0]\n",
      "[] ---- []\n",
      "[0, 0, 4, 0, 2, 0, 2, 0, 0, 0, 0, 0, 3, 0, 3, 2, 0, 0, 0, 0, 0] ---- [0, 0, 4, 4, 4, 0, 2, 0, 0, 0, 0, 4, 4, 0, 2, 2, 0, 0, 0, 0, 0]\n",
      "[0, 4, 4, 0, 2, 0, 0] ---- [0, 4, 4, 0, 2, 0, 0]\n",
      "[3, 0, 0, 0, 0, 0, 0, 0, 0] ---- [3, 0, 0, 0, 0, 0, 0, 0, 0]\n",
      "[4, 4, 0, 2, 0, 0, 4, 4, 0, 2, 0, 0, 0, 0, 0, 0, 0, 0, 0] ---- [4, 4, 0, 2, 0, 0, 4, 4, 0, 2, 0, 0, 0, 0, 0, 0, 0, 0, 0]\n",
      "[3, 0, 0, 0, 0, 0, 0, 0] ---- [3, 0, 0, 0, 0, 0, 0, 0]\n",
      "[1, 0, 0, 0, 0, 0, 0, 0, 0, 0, 0, 0, 0, 0, 0, 0, 0, 0, 0, 0, 0, 0] ---- [1, 0, 0, 0, 0, 0, 0, 0, 0, 0, 0, 0, 0, 0, 0, 0, 0, 0, 0, 0, 0, 0]\n",
      "[3, 0, 0, 0, 0, 0, 0, 0, 0] ---- [3, 3, 0, 0, 0, 0, 0, 0, 0]\n",
      "[0, 0, 0, 0, 0, 0, 0, 0, 0, 0, 0, 0, 0, 2, 0, 0, 0] ---- [0, 0, 0, 0, 0, 0, 0, 0, 0, 0, 0, 0, 0, 2, 0, 0, 0]\n",
      "[0, 0, 0, 0, 0, 0, 0, 0, 0, 0, 0, 0, 0, 0, 0, 0, 0, 0, 3, 0, 3, 0, 0, 0, 0, 0, 0, 0, 0, 0, 0, 0, 0, 0, 0, 0, 0, 0] ---- [0, 0, 0, 0, 0, 0, 0, 0, 0, 0, 0, 0, 0, 0, 0, 0, 0, 0, 2, 0, 2, 0, 0, 0, 0, 0, 0, 0, 0, 0, 0, 0, 0, 0, 0, 0, 0, 0]\n",
      "Iteration:  4\n",
      "[4, 0, 0, 0, 0, 0, 0, 0, 0, 0, 0, 0, 0, 0, 2, 0, 0, 0, 0, 0, 0, 0, 0, 0, 0, 0, 0, 0, 0, 0] ---- [0, 0, 0, 0, 0, 0, 0, 0, 0, 0, 0, 0, 0, 0, 1, 0, 0, 0, 0, 0, 0, 0, 0, 0, 0, 0, 0, 0, 0, 0]\n",
      "[1, 1, 3, 1, 0, 0, 0, 0, 0, 0, 0] ---- [3, 0, 0, 0, 0, 0, 0, 0, 0, 0, 0]\n",
      "[] ---- []\n",
      "[0, 0, 4, 2, 2, 0, 2, 0, 0, 0, 0, 0, 0, 0, 2, 2, 0, 0, 0, 0, 0] ---- [0, 0, 4, 4, 4, 0, 2, 0, 0, 0, 0, 4, 4, 0, 2, 2, 0, 0, 0, 0, 0]\n",
      "[0, 4, 4, 0, 2, 0, 0] ---- [0, 4, 4, 0, 2, 0, 0]\n",
      "[3, 0, 0, 0, 0, 0, 0, 0, 0] ---- [3, 0, 0, 0, 0, 0, 0, 0, 0]\n",
      "[4, 4, 0, 2, 0, 0, 4, 4, 0, 2, 0, 0, 0, 0, 0, 0, 0, 0, 0] ---- [4, 4, 0, 2, 0, 0, 4, 4, 0, 2, 0, 0, 0, 0, 0, 0, 0, 0, 0]\n",
      "[3, 0, 0, 0, 0, 0, 0, 0] ---- [3, 0, 0, 0, 0, 0, 0, 0]\n",
      "[1, 0, 0, 0, 0, 0, 0, 0, 0, 0, 0, 0, 0, 0, 0, 0, 0, 0, 0, 0, 0, 0] ---- [1, 0, 0, 0, 0, 0, 0, 0, 0, 0, 0, 0, 0, 0, 0, 0, 0, 0, 0, 0, 0, 0]\n",
      "[3, 0, 0, 0, 0, 0, 0, 0, 0] ---- [3, 3, 0, 0, 0, 0, 0, 0, 0]\n",
      "[0, 0, 0, 0, 0, 0, 0, 0, 0, 0, 0, 0, 0, 2, 0, 0, 0] ---- [0, 0, 0, 0, 0, 0, 0, 0, 0, 0, 0, 0, 0, 2, 0, 0, 0]\n",
      "[0, 0, 0, 0, 0, 0, 0, 0, 0, 0, 0, 0, 0, 0, 0, 0, 0, 0, 3, 0, 3, 0, 0, 0, 0, 0, 0, 0, 0, 0, 0, 0, 0, 0, 0, 0, 0, 0] ---- [0, 0, 0, 0, 0, 0, 0, 0, 0, 0, 0, 0, 0, 0, 0, 0, 0, 0, 2, 0, 2, 0, 0, 0, 0, 0, 0, 0, 0, 0, 0, 0, 0, 0, 0, 0, 0, 0]\n",
      "Iteration:  5\n",
      "[4, 0, 0, 0, 0, 0, 0, 0, 0, 0, 0, 0, 0, 0, 4, 0, 0, 0, 0, 0, 0, 0, 0, 0, 0, 0, 0, 0, 0, 0] ---- [0, 0, 0, 0, 0, 0, 0, 0, 0, 0, 0, 0, 0, 0, 1, 0, 0, 0, 0, 0, 0, 0, 0, 0, 0, 0, 0, 0, 0, 0]\n",
      "[1, 1, 1, 1, 0, 0, 0, 0, 0, 0, 0] ---- [3, 0, 0, 0, 0, 0, 0, 0, 0, 0, 0]\n",
      "[] ---- []\n",
      "[0, 0, 4, 4, 2, 0, 2, 0, 0, 0, 0, 0, 2, 0, 2, 2, 0, 0, 0, 0, 0] ---- [0, 0, 4, 4, 4, 0, 2, 0, 0, 0, 0, 4, 4, 0, 2, 2, 0, 0, 0, 0, 0]\n",
      "[0, 4, 4, 0, 2, 0, 0] ---- [0, 4, 4, 0, 2, 0, 0]\n",
      "[3, 0, 0, 0, 0, 0, 0, 0, 0] ---- [3, 0, 0, 0, 0, 0, 0, 0, 0]\n",
      "[4, 4, 0, 2, 0, 0, 4, 4, 0, 2, 0, 0, 0, 0, 0, 0, 0, 0, 0] ---- [4, 4, 0, 2, 0, 0, 4, 4, 0, 2, 0, 0, 0, 0, 0, 0, 0, 0, 0]\n",
      "[3, 0, 0, 0, 0, 0, 0, 0] ---- [3, 0, 0, 0, 0, 0, 0, 0]\n",
      "[1, 0, 0, 0, 0, 0, 0, 0, 0, 0, 0, 0, 0, 0, 0, 0, 0, 0, 0, 0, 0, 0] ---- [1, 0, 0, 0, 0, 0, 0, 0, 0, 0, 0, 0, 0, 0, 0, 0, 0, 0, 0, 0, 0, 0]\n",
      "[3, 0, 0, 0, 0, 0, 0, 0, 0] ---- [3, 3, 0, 0, 0, 0, 0, 0, 0]\n",
      "[0, 0, 0, 0, 0, 0, 0, 0, 0, 0, 0, 0, 0, 2, 0, 0, 0] ---- [0, 0, 0, 0, 0, 0, 0, 0, 0, 0, 0, 0, 0, 2, 0, 0, 0]\n",
      "[0, 0, 0, 0, 0, 0, 0, 0, 0, 0, 0, 0, 0, 0, 0, 0, 0, 0, 3, 0, 2, 0, 0, 0, 0, 0, 0, 0, 0, 0, 0, 0, 0, 0, 0, 0, 0, 0] ---- [0, 0, 0, 0, 0, 0, 0, 0, 0, 0, 0, 0, 0, 0, 0, 0, 0, 0, 2, 0, 2, 0, 0, 0, 0, 0, 0, 0, 0, 0, 0, 0, 0, 0, 0, 0, 0, 0]\n",
      "Iteration:  6\n",
      "[4, 0, 0, 0, 0, 0, 0, 0, 0, 0, 0, 0, 0, 0, 3, 0, 0, 0, 0, 0, 0, 0, 0, 0, 0, 0, 0, 0, 0, 0] ---- [0, 0, 0, 0, 0, 0, 0, 0, 0, 0, 0, 0, 0, 0, 1, 0, 0, 0, 0, 0, 0, 0, 0, 0, 0, 0, 0, 0, 0, 0]\n",
      "[1, 1, 1, 1, 0, 0, 0, 0, 0, 0, 0] ---- [3, 0, 0, 0, 0, 0, 0, 0, 0, 0, 0]\n",
      "[] ---- []\n",
      "[0, 0, 3, 2, 2, 0, 2, 0, 0, 0, 0, 0, 2, 0, 2, 2, 0, 0, 0, 0, 0] ---- [0, 0, 4, 4, 4, 0, 2, 0, 0, 0, 0, 4, 4, 0, 2, 2, 0, 0, 0, 0, 0]\n",
      "[0, 4, 4, 0, 2, 0, 0] ---- [0, 4, 4, 0, 2, 0, 0]\n",
      "[3, 0, 0, 0, 0, 0, 0, 0, 0] ---- [3, 0, 0, 0, 0, 0, 0, 0, 0]\n",
      "[4, 4, 0, 2, 0, 0, 4, 4, 0, 2, 0, 0, 0, 0, 0, 0, 0, 0, 0] ---- [4, 4, 0, 2, 0, 0, 4, 4, 0, 2, 0, 0, 0, 0, 0, 0, 0, 0, 0]\n"
     ]
    },
    {
     "name": "stdout",
     "output_type": "stream",
     "text": [
      "[3, 0, 0, 0, 0, 0, 0, 0] ---- [3, 0, 0, 0, 0, 0, 0, 0]\n",
      "[1, 0, 0, 0, 0, 0, 0, 0, 0, 0, 0, 0, 0, 0, 0, 0, 0, 0, 0, 0, 0, 0] ---- [1, 0, 0, 0, 0, 0, 0, 0, 0, 0, 0, 0, 0, 0, 0, 0, 0, 0, 0, 0, 0, 0]\n",
      "[3, 0, 0, 0, 0, 0, 0, 0, 0] ---- [3, 3, 0, 0, 0, 0, 0, 0, 0]\n",
      "[0, 0, 0, 0, 0, 0, 0, 0, 0, 0, 0, 0, 0, 2, 0, 0, 0] ---- [0, 0, 0, 0, 0, 0, 0, 0, 0, 0, 0, 0, 0, 2, 0, 0, 0]\n",
      "[0, 0, 0, 0, 0, 0, 0, 0, 0, 0, 0, 0, 0, 0, 0, 0, 0, 0, 3, 0, 3, 0, 0, 0, 0, 0, 0, 0, 0, 0, 0, 0, 0, 0, 0, 0, 0, 0] ---- [0, 0, 0, 0, 0, 0, 0, 0, 0, 0, 0, 0, 0, 0, 0, 0, 0, 0, 2, 0, 2, 0, 0, 0, 0, 0, 0, 0, 0, 0, 0, 0, 0, 0, 0, 0, 0, 0]\n",
      "Iteration:  7\n",
      "[0, 0, 0, 0, 0, 0, 0, 0, 0, 0, 0, 0, 0, 0, 4, 0, 0, 0, 0, 0, 0, 0, 0, 0, 0, 0, 0, 0, 0, 0] ---- [0, 0, 0, 0, 0, 0, 0, 0, 0, 0, 0, 0, 0, 0, 1, 0, 0, 0, 0, 0, 0, 0, 0, 0, 0, 0, 0, 0, 0, 0]\n",
      "[1, 1, 0, 0, 0, 0, 0, 0, 0, 0, 0] ---- [3, 0, 0, 0, 0, 0, 0, 0, 0, 0, 0]\n",
      "[] ---- []\n",
      "[0, 0, 3, 2, 2, 0, 2, 0, 0, 0, 0, 2, 3, 0, 2, 2, 0, 0, 0, 0, 0] ---- [0, 0, 4, 4, 4, 0, 2, 0, 0, 0, 0, 4, 4, 0, 2, 2, 0, 0, 0, 0, 0]\n",
      "[0, 4, 4, 0, 2, 0, 0] ---- [0, 4, 4, 0, 2, 0, 0]\n",
      "[3, 0, 0, 0, 0, 0, 0, 0, 0] ---- [3, 0, 0, 0, 0, 0, 0, 0, 0]\n",
      "[4, 4, 0, 2, 0, 0, 4, 4, 0, 2, 0, 0, 0, 0, 0, 0, 0, 0, 0] ---- [4, 4, 0, 2, 0, 0, 4, 4, 0, 2, 0, 0, 0, 0, 0, 0, 0, 0, 0]\n",
      "[3, 0, 0, 0, 0, 0, 0, 0] ---- [3, 0, 0, 0, 0, 0, 0, 0]\n",
      "[1, 0, 0, 0, 0, 0, 0, 0, 0, 0, 0, 0, 0, 0, 0, 0, 0, 0, 0, 0, 0, 0] ---- [1, 0, 0, 0, 0, 0, 0, 0, 0, 0, 0, 0, 0, 0, 0, 0, 0, 0, 0, 0, 0, 0]\n",
      "[3, 0, 0, 0, 0, 0, 0, 0, 0] ---- [3, 3, 0, 0, 0, 0, 0, 0, 0]\n",
      "[0, 0, 0, 0, 0, 0, 0, 0, 0, 0, 0, 0, 0, 2, 0, 0, 0] ---- [0, 0, 0, 0, 0, 0, 0, 0, 0, 0, 0, 0, 0, 2, 0, 0, 0]\n",
      "[0, 0, 0, 0, 0, 0, 0, 0, 0, 0, 0, 0, 0, 0, 0, 0, 0, 0, 3, 0, 3, 0, 0, 0, 0, 0, 0, 0, 0, 0, 0, 0, 0, 0, 0, 0, 0, 0] ---- [0, 0, 0, 0, 0, 0, 0, 0, 0, 0, 0, 0, 0, 0, 0, 0, 0, 0, 2, 0, 2, 0, 0, 0, 0, 0, 0, 0, 0, 0, 0, 0, 0, 0, 0, 0, 0, 0]\n",
      "Iteration:  8\n",
      "[4, 0, 0, 0, 0, 0, 0, 0, 0, 0, 0, 0, 0, 0, 0, 0, 0, 0, 0, 0, 0, 0, 0, 0, 0, 0, 0, 0, 0, 0] ---- [0, 0, 0, 0, 0, 0, 0, 0, 0, 0, 0, 0, 0, 0, 1, 0, 0, 0, 0, 0, 0, 0, 0, 0, 0, 0, 0, 0, 0, 0]\n",
      "[1, 2, 2, 1, 0, 0, 0, 0, 0, 0, 0] ---- [3, 0, 0, 0, 0, 0, 0, 0, 0, 0, 0]\n",
      "[] ---- []\n",
      "[0, 0, 2, 2, 2, 0, 2, 0, 0, 0, 0, 0, 2, 0, 2, 2, 0, 0, 0, 0, 0] ---- [0, 0, 4, 4, 4, 0, 2, 0, 0, 0, 0, 4, 4, 0, 2, 2, 0, 0, 0, 0, 0]\n",
      "[0, 4, 4, 0, 2, 0, 0] ---- [0, 4, 4, 0, 2, 0, 0]\n",
      "[3, 0, 0, 0, 0, 0, 0, 0, 0] ---- [3, 0, 0, 0, 0, 0, 0, 0, 0]\n",
      "[4, 4, 0, 2, 0, 0, 4, 4, 0, 2, 0, 0, 0, 0, 0, 0, 0, 0, 0] ---- [4, 4, 0, 2, 0, 0, 4, 4, 0, 2, 0, 0, 0, 0, 0, 0, 0, 0, 0]\n",
      "[3, 0, 0, 0, 0, 0, 0, 0] ---- [3, 0, 0, 0, 0, 0, 0, 0]\n",
      "[1, 0, 0, 0, 0, 0, 0, 0, 0, 0, 0, 0, 0, 0, 0, 0, 0, 0, 0, 0, 0, 0] ---- [1, 0, 0, 0, 0, 0, 0, 0, 0, 0, 0, 0, 0, 0, 0, 0, 0, 0, 0, 0, 0, 0]\n",
      "[3, 0, 0, 0, 0, 0, 0, 0, 0] ---- [3, 3, 0, 0, 0, 0, 0, 0, 0]\n",
      "[0, 0, 0, 0, 0, 0, 0, 0, 0, 0, 0, 0, 0, 2, 0, 0, 0] ---- [0, 0, 0, 0, 0, 0, 0, 0, 0, 0, 0, 0, 0, 2, 0, 0, 0]\n",
      "[0, 0, 0, 0, 0, 0, 0, 0, 0, 0, 0, 0, 0, 0, 0, 0, 0, 0, 3, 0, 2, 0, 0, 0, 0, 0, 0, 0, 0, 0, 0, 0, 0, 0, 0, 0, 0, 0] ---- [0, 0, 0, 0, 0, 0, 0, 0, 0, 0, 0, 0, 0, 0, 0, 0, 0, 0, 2, 0, 2, 0, 0, 0, 0, 0, 0, 0, 0, 0, 0, 0, 0, 0, 0, 0, 0, 0]\n",
      "Iteration:  9\n",
      "[4, 0, 0, 0, 0, 0, 0, 0, 0, 0, 0, 0, 0, 0, 0, 0, 0, 0, 0, 0, 0, 0, 0, 0, 0, 0, 0, 0, 0, 0] ---- [0, 0, 0, 0, 0, 0, 0, 0, 0, 0, 0, 0, 0, 0, 1, 0, 0, 0, 0, 0, 0, 0, 0, 0, 0, 0, 0, 0, 0, 0]\n",
      "[1, 1, 0, 1, 0, 0, 0, 0, 0, 0, 0] ---- [3, 0, 0, 0, 0, 0, 0, 0, 0, 0, 0]\n",
      "[] ---- []\n",
      "[0, 0, 4, 4, 2, 0, 2, 0, 0, 0, 0, 0, 2, 0, 2, 2, 0, 0, 0, 0, 0] ---- [0, 0, 4, 4, 4, 0, 2, 0, 0, 0, 0, 4, 4, 0, 2, 2, 0, 0, 0, 0, 0]\n",
      "[0, 4, 4, 0, 2, 0, 0] ---- [0, 4, 4, 0, 2, 0, 0]\n",
      "[3, 0, 0, 0, 0, 0, 0, 0, 0] ---- [3, 0, 0, 0, 0, 0, 0, 0, 0]\n",
      "[4, 4, 0, 2, 0, 0, 4, 4, 0, 2, 0, 0, 0, 0, 0, 0, 0, 0, 0] ---- [4, 4, 0, 2, 0, 0, 4, 4, 0, 2, 0, 0, 0, 0, 0, 0, 0, 0, 0]\n",
      "[3, 0, 0, 0, 0, 0, 0, 0] ---- [3, 0, 0, 0, 0, 0, 0, 0]\n",
      "[1, 0, 0, 0, 0, 0, 0, 0, 0, 0, 0, 0, 0, 0, 0, 0, 0, 0, 0, 0, 0, 0] ---- [1, 0, 0, 0, 0, 0, 0, 0, 0, 0, 0, 0, 0, 0, 0, 0, 0, 0, 0, 0, 0, 0]\n",
      "[3, 0, 0, 0, 0, 0, 0, 0, 0] ---- [3, 3, 0, 0, 0, 0, 0, 0, 0]\n",
      "[0, 0, 0, 0, 0, 0, 0, 0, 0, 0, 0, 0, 0, 2, 0, 0, 0] ---- [0, 0, 0, 0, 0, 0, 0, 0, 0, 0, 0, 0, 0, 2, 0, 0, 0]\n",
      "[0, 0, 0, 0, 0, 0, 0, 0, 0, 0, 0, 0, 0, 0, 0, 0, 0, 0, 3, 0, 4, 0, 0, 0, 0, 0, 0, 0, 0, 0, 0, 0, 0, 0, 0, 0, 0, 0] ---- [0, 0, 0, 0, 0, 0, 0, 0, 0, 0, 0, 0, 0, 0, 0, 0, 0, 0, 2, 0, 2, 0, 0, 0, 0, 0, 0, 0, 0, 0, 0, 0, 0, 0, 0, 0, 0, 0]\n",
      "Iteration:  10\n",
      "[0, 0, 0, 0, 0, 0, 0, 0, 0, 0, 0, 0, 0, 0, 4, 0, 0, 0, 0, 0, 0, 0, 0, 0, 0, 0, 0, 0, 0, 0] ---- [0, 0, 0, 0, 0, 0, 0, 0, 0, 0, 0, 0, 0, 0, 1, 0, 0, 0, 0, 0, 0, 0, 0, 0, 0, 0, 0, 0, 0, 0]\n",
      "[1, 2, 2, 1, 0, 0, 0, 0, 0, 0, 0] ---- [3, 0, 0, 0, 0, 0, 0, 0, 0, 0, 0]\n",
      "[] ---- []\n",
      "[0, 0, 3, 2, 2, 0, 2, 0, 0, 0, 0, 0, 2, 0, 2, 2, 0, 0, 0, 0, 0] ---- [0, 0, 4, 4, 4, 0, 2, 0, 0, 0, 0, 4, 4, 0, 2, 2, 0, 0, 0, 0, 0]\n",
      "[0, 4, 4, 0, 2, 0, 0] ---- [0, 4, 4, 0, 2, 0, 0]\n",
      "[3, 0, 0, 0, 0, 0, 0, 0, 0] ---- [3, 0, 0, 0, 0, 0, 0, 0, 0]\n",
      "[4, 4, 0, 2, 0, 0, 4, 4, 0, 2, 0, 0, 0, 0, 0, 0, 0, 0, 0] ---- [4, 4, 0, 2, 0, 0, 4, 4, 0, 2, 0, 0, 0, 0, 0, 0, 0, 0, 0]\n",
      "[3, 0, 0, 0, 0, 0, 0, 0] ---- [3, 0, 0, 0, 0, 0, 0, 0]\n",
      "[1, 0, 0, 0, 0, 0, 0, 0, 0, 0, 0, 0, 0, 0, 0, 0, 0, 0, 0, 0, 0, 0] ---- [1, 0, 0, 0, 0, 0, 0, 0, 0, 0, 0, 0, 0, 0, 0, 0, 0, 0, 0, 0, 0, 0]\n",
      "[3, 0, 0, 0, 0, 0, 0, 0, 0] ---- [3, 3, 0, 0, 0, 0, 0, 0, 0]\n",
      "[0, 0, 0, 0, 0, 0, 0, 0, 0, 0, 0, 0, 0, 2, 0, 0, 0] ---- [0, 0, 0, 0, 0, 0, 0, 0, 0, 0, 0, 0, 0, 2, 0, 0, 0]\n",
      "[0, 0, 0, 0, 0, 0, 0, 0, 0, 0, 0, 0, 0, 0, 0, 0, 0, 0, 3, 0, 4, 0, 0, 0, 0, 0, 0, 0, 0, 0, 0, 0, 0, 0, 0, 0, 0, 0] ---- [0, 0, 0, 0, 0, 0, 0, 0, 0, 0, 0, 0, 0, 0, 0, 0, 0, 0, 2, 0, 2, 0, 0, 0, 0, 0, 0, 0, 0, 0, 0, 0, 0, 0, 0, 0, 0, 0]\n",
      "Iteration:  11\n",
      "[4, 0, 0, 0, 0, 0, 0, 0, 0, 0, 0, 0, 0, 0, 4, 0, 0, 0, 0, 0, 0, 0, 0, 0, 0, 0, 0, 0, 0, 0] ---- [0, 0, 0, 0, 0, 0, 0, 0, 0, 0, 0, 0, 0, 0, 1, 0, 0, 0, 0, 0, 0, 0, 0, 0, 0, 0, 0, 0, 0, 0]\n",
      "[1, 1, 0, 1, 0, 0, 0, 0, 0, 0, 0] ---- [3, 0, 0, 0, 0, 0, 0, 0, 0, 0, 0]\n",
      "[] ---- []\n",
      "[0, 0, 4, 4, 2, 0, 2, 0, 0, 0, 0, 0, 3, 0, 2, 2, 0, 0, 0, 0, 0] ---- [0, 0, 4, 4, 4, 0, 2, 0, 0, 0, 0, 4, 4, 0, 2, 2, 0, 0, 0, 0, 0]\n",
      "[0, 4, 4, 0, 2, 0, 0] ---- [0, 4, 4, 0, 2, 0, 0]\n",
      "[3, 0, 0, 0, 0, 0, 0, 0, 0] ---- [3, 0, 0, 0, 0, 0, 0, 0, 0]\n",
      "[4, 4, 0, 2, 0, 0, 4, 4, 0, 2, 0, 0, 0, 0, 0, 0, 0, 0, 0] ---- [4, 4, 0, 2, 0, 0, 4, 4, 0, 2, 0, 0, 0, 0, 0, 0, 0, 0, 0]\n",
      "[3, 0, 0, 0, 0, 0, 0, 0] ---- [3, 0, 0, 0, 0, 0, 0, 0]\n",
      "[1, 0, 0, 0, 0, 0, 0, 0, 0, 0, 0, 0, 0, 0, 0, 0, 0, 0, 0, 0, 0, 0] ---- [1, 0, 0, 0, 0, 0, 0, 0, 0, 0, 0, 0, 0, 0, 0, 0, 0, 0, 0, 0, 0, 0]\n",
      "[3, 0, 0, 0, 0, 0, 0, 0, 0] ---- [3, 3, 0, 0, 0, 0, 0, 0, 0]\n",
      "[0, 0, 0, 0, 0, 0, 0, 0, 0, 0, 0, 0, 0, 2, 0, 0, 0] ---- [0, 0, 0, 0, 0, 0, 0, 0, 0, 0, 0, 0, 0, 2, 0, 0, 0]\n",
      "[0, 0, 0, 0, 0, 0, 0, 0, 0, 0, 0, 0, 0, 0, 0, 0, 0, 0, 3, 0, 2, 0, 0, 0, 0, 0, 0, 0, 0, 0, 0, 0, 0, 0, 0, 0, 0, 0] ---- [0, 0, 0, 0, 0, 0, 0, 0, 0, 0, 0, 0, 0, 0, 0, 0, 0, 0, 2, 0, 2, 0, 0, 0, 0, 0, 0, 0, 0, 0, 0, 0, 0, 0, 0, 0, 0, 0]\n",
      "Iteration:  12\n",
      "[4, 0, 0, 0, 0, 0, 0, 0, 0, 0, 0, 0, 0, 0, 3, 0, 0, 0, 0, 0, 0, 0, 0, 0, 0, 0, 0, 0, 0, 0] ---- [0, 0, 0, 0, 0, 0, 0, 0, 0, 0, 0, 0, 0, 0, 1, 0, 0, 0, 0, 0, 0, 0, 0, 0, 0, 0, 0, 0, 0, 0]\n",
      "[1, 1, 2, 1, 0, 0, 0, 0, 0, 0, 0] ---- [3, 0, 0, 0, 0, 0, 0, 0, 0, 0, 0]\n",
      "[] ---- []\n",
      "[0, 0, 4, 2, 2, 0, 2, 0, 0, 0, 0, 0, 2, 0, 2, 2, 0, 0, 0, 0, 0] ---- [0, 0, 4, 4, 4, 0, 2, 0, 0, 0, 0, 4, 4, 0, 2, 2, 0, 0, 0, 0, 0]\n",
      "[0, 4, 4, 0, 2, 0, 0] ---- [0, 4, 4, 0, 2, 0, 0]\n",
      "[3, 0, 0, 0, 0, 0, 0, 0, 0] ---- [3, 0, 0, 0, 0, 0, 0, 0, 0]\n",
      "[4, 4, 0, 2, 0, 0, 4, 4, 0, 2, 0, 0, 0, 0, 0, 0, 0, 0, 0] ---- [4, 4, 0, 2, 0, 0, 4, 4, 0, 2, 0, 0, 0, 0, 0, 0, 0, 0, 0]\n",
      "[3, 0, 0, 0, 0, 0, 0, 0] ---- [3, 0, 0, 0, 0, 0, 0, 0]\n",
      "[1, 0, 0, 0, 0, 0, 0, 0, 0, 0, 0, 0, 0, 0, 0, 0, 0, 0, 0, 0, 0, 0] ---- [1, 0, 0, 0, 0, 0, 0, 0, 0, 0, 0, 0, 0, 0, 0, 0, 0, 0, 0, 0, 0, 0]\n",
      "[3, 0, 0, 0, 0, 0, 0, 0, 0] ---- [3, 3, 0, 0, 0, 0, 0, 0, 0]\n",
      "[0, 0, 0, 0, 0, 0, 0, 0, 0, 0, 0, 0, 0, 2, 0, 0, 0] ---- [0, 0, 0, 0, 0, 0, 0, 0, 0, 0, 0, 0, 0, 2, 0, 0, 0]\n",
      "[0, 0, 0, 0, 0, 0, 0, 0, 0, 0, 0, 0, 0, 0, 0, 0, 0, 0, 3, 0, 2, 0, 0, 0, 0, 0, 0, 0, 0, 0, 0, 0, 0, 0, 0, 0, 0, 0] ---- [0, 0, 0, 0, 0, 0, 0, 0, 0, 0, 0, 0, 0, 0, 0, 0, 0, 0, 2, 0, 2, 0, 0, 0, 0, 0, 0, 0, 0, 0, 0, 0, 0, 0, 0, 0, 0, 0]\n",
      "Iteration:  13\n",
      "[4, 0, 0, 0, 0, 0, 0, 0, 0, 0, 0, 0, 0, 0, 4, 0, 0, 0, 0, 0, 0, 0, 0, 0, 0, 0, 0, 0, 0, 0] ---- [0, 0, 0, 0, 0, 0, 0, 0, 0, 0, 0, 0, 0, 0, 1, 0, 0, 0, 0, 0, 0, 0, 0, 0, 0, 0, 0, 0, 0, 0]\n"
     ]
    },
    {
     "name": "stdout",
     "output_type": "stream",
     "text": [
      "[1, 0, 0, 1, 0, 0, 0, 0, 0, 0, 0] ---- [3, 0, 0, 0, 0, 0, 0, 0, 0, 0, 0]\n",
      "[] ---- []\n",
      "[0, 0, 4, 4, 2, 0, 2, 0, 0, 0, 0, 0, 0, 0, 2, 2, 0, 0, 0, 0, 0] ---- [0, 0, 4, 4, 4, 0, 2, 0, 0, 0, 0, 4, 4, 0, 2, 2, 0, 0, 0, 0, 0]\n",
      "[0, 4, 4, 0, 2, 0, 0] ---- [0, 4, 4, 0, 2, 0, 0]\n",
      "[3, 0, 0, 0, 0, 0, 0, 0, 0] ---- [3, 0, 0, 0, 0, 0, 0, 0, 0]\n",
      "[4, 4, 0, 2, 0, 0, 4, 4, 0, 2, 0, 0, 0, 0, 0, 0, 0, 0, 0] ---- [4, 4, 0, 2, 0, 0, 4, 4, 0, 2, 0, 0, 0, 0, 0, 0, 0, 0, 0]\n",
      "[3, 0, 0, 0, 0, 0, 0, 0] ---- [3, 0, 0, 0, 0, 0, 0, 0]\n",
      "[1, 0, 0, 0, 0, 0, 0, 0, 0, 0, 0, 0, 0, 0, 0, 0, 0, 0, 0, 0, 0, 0] ---- [1, 0, 0, 0, 0, 0, 0, 0, 0, 0, 0, 0, 0, 0, 0, 0, 0, 0, 0, 0, 0, 0]\n",
      "[3, 0, 0, 0, 0, 0, 0, 0, 0] ---- [3, 3, 0, 0, 0, 0, 0, 0, 0]\n",
      "[0, 0, 0, 0, 0, 0, 0, 0, 0, 0, 0, 0, 0, 2, 0, 0, 0] ---- [0, 0, 0, 0, 0, 0, 0, 0, 0, 0, 0, 0, 0, 2, 0, 0, 0]\n",
      "[0, 0, 0, 0, 0, 0, 0, 0, 0, 0, 0, 0, 0, 0, 0, 0, 0, 0, 3, 0, 4, 0, 0, 0, 0, 0, 0, 0, 0, 0, 0, 0, 0, 0, 0, 0, 0, 0] ---- [0, 0, 0, 0, 0, 0, 0, 0, 0, 0, 0, 0, 0, 0, 0, 0, 0, 0, 2, 0, 2, 0, 0, 0, 0, 0, 0, 0, 0, 0, 0, 0, 0, 0, 0, 0, 0, 0]\n",
      "Iteration:  14\n",
      "[4, 0, 0, 0, 0, 0, 0, 0, 0, 0, 0, 0, 0, 0, 4, 0, 0, 0, 0, 0, 0, 0, 0, 0, 0, 0, 0, 0, 0, 0] ---- [0, 0, 0, 0, 0, 0, 0, 0, 0, 0, 0, 0, 0, 0, 1, 0, 0, 0, 0, 0, 0, 0, 0, 0, 0, 0, 0, 0, 0, 0]\n",
      "[1, 1, 0, 1, 0, 0, 0, 0, 0, 0, 0] ---- [3, 0, 0, 0, 0, 0, 0, 0, 0, 0, 0]\n",
      "[] ---- []\n",
      "[0, 0, 4, 4, 2, 0, 2, 0, 0, 0, 0, 0, 2, 0, 2, 2, 0, 0, 0, 0, 0] ---- [0, 0, 4, 4, 4, 0, 2, 0, 0, 0, 0, 4, 4, 0, 2, 2, 0, 0, 0, 0, 0]\n",
      "[0, 4, 4, 0, 2, 0, 0] ---- [0, 4, 4, 0, 2, 0, 0]\n",
      "[3, 0, 0, 0, 0, 0, 0, 0, 0] ---- [3, 0, 0, 0, 0, 0, 0, 0, 0]\n",
      "[4, 4, 0, 2, 0, 0, 4, 4, 0, 2, 0, 0, 0, 0, 0, 0, 0, 0, 0] ---- [4, 4, 0, 2, 0, 0, 4, 4, 0, 2, 0, 0, 0, 0, 0, 0, 0, 0, 0]\n",
      "[3, 0, 0, 0, 0, 0, 0, 0] ---- [3, 0, 0, 0, 0, 0, 0, 0]\n",
      "[1, 0, 0, 0, 0, 0, 0, 0, 0, 0, 0, 0, 0, 0, 0, 0, 0, 0, 0, 0, 0, 0] ---- [1, 0, 0, 0, 0, 0, 0, 0, 0, 0, 0, 0, 0, 0, 0, 0, 0, 0, 0, 0, 0, 0]\n",
      "[3, 0, 0, 0, 0, 0, 0, 0, 0] ---- [3, 3, 0, 0, 0, 0, 0, 0, 0]\n",
      "[0, 0, 0, 0, 0, 0, 0, 0, 0, 0, 0, 0, 0, 2, 0, 0, 0] ---- [0, 0, 0, 0, 0, 0, 0, 0, 0, 0, 0, 0, 0, 2, 0, 0, 0]\n",
      "[0, 0, 0, 0, 0, 0, 0, 0, 0, 0, 0, 0, 0, 0, 0, 0, 0, 0, 3, 0, 2, 0, 0, 0, 0, 0, 0, 0, 0, 0, 0, 0, 0, 0, 0, 0, 0, 0] ---- [0, 0, 0, 0, 0, 0, 0, 0, 0, 0, 0, 0, 0, 0, 0, 0, 0, 0, 2, 0, 2, 0, 0, 0, 0, 0, 0, 0, 0, 0, 0, 0, 0, 0, 0, 0, 0, 0]\n",
      "Iteration:  15\n",
      "[4, 0, 0, 0, 0, 0, 0, 0, 0, 0, 0, 0, 0, 0, 0, 0, 0, 0, 0, 0, 0, 0, 0, 0, 0, 0, 0, 0, 0, 0] ---- [0, 0, 0, 0, 0, 0, 0, 0, 0, 0, 0, 0, 0, 0, 1, 0, 0, 0, 0, 0, 0, 0, 0, 0, 0, 0, 0, 0, 0, 0]\n",
      "[1, 2, 0, 1, 0, 0, 0, 0, 0, 0, 0] ---- [3, 0, 0, 0, 0, 0, 0, 0, 0, 0, 0]\n",
      "[] ---- []\n",
      "[0, 0, 4, 4, 2, 0, 2, 0, 0, 0, 0, 0, 3, 0, 2, 2, 0, 0, 0, 0, 0] ---- [0, 0, 4, 4, 4, 0, 2, 0, 0, 0, 0, 4, 4, 0, 2, 2, 0, 0, 0, 0, 0]\n",
      "[0, 4, 4, 0, 2, 0, 0] ---- [0, 4, 4, 0, 2, 0, 0]\n",
      "[3, 0, 0, 0, 0, 0, 0, 0, 0] ---- [3, 0, 0, 0, 0, 0, 0, 0, 0]\n",
      "[4, 4, 0, 2, 0, 0, 4, 4, 0, 2, 0, 0, 0, 0, 0, 0, 0, 0, 0] ---- [4, 4, 0, 2, 0, 0, 4, 4, 0, 2, 0, 0, 0, 0, 0, 0, 0, 0, 0]\n",
      "[3, 0, 0, 0, 0, 0, 0, 0] ---- [3, 0, 0, 0, 0, 0, 0, 0]\n",
      "[1, 0, 0, 0, 0, 0, 0, 0, 0, 0, 0, 0, 0, 0, 0, 0, 0, 0, 0, 0, 0, 0] ---- [1, 0, 0, 0, 0, 0, 0, 0, 0, 0, 0, 0, 0, 0, 0, 0, 0, 0, 0, 0, 0, 0]\n",
      "[3, 0, 0, 0, 0, 0, 0, 0, 0] ---- [3, 3, 0, 0, 0, 0, 0, 0, 0]\n",
      "[0, 0, 0, 0, 0, 0, 0, 0, 0, 0, 0, 0, 0, 2, 0, 0, 0] ---- [0, 0, 0, 0, 0, 0, 0, 0, 0, 0, 0, 0, 0, 2, 0, 0, 0]\n",
      "[0, 0, 0, 0, 0, 0, 0, 0, 0, 0, 0, 0, 0, 0, 0, 0, 0, 0, 3, 0, 2, 0, 0, 0, 0, 0, 0, 0, 0, 0, 0, 0, 0, 0, 0, 0, 0, 0] ---- [0, 0, 0, 0, 0, 0, 0, 0, 0, 0, 0, 0, 0, 0, 0, 0, 0, 0, 2, 0, 2, 0, 0, 0, 0, 0, 0, 0, 0, 0, 0, 0, 0, 0, 0, 0, 0, 0]\n",
      "Iteration:  16\n",
      "[4, 0, 0, 0, 0, 0, 0, 0, 0, 0, 0, 0, 0, 0, 0, 0, 0, 0, 0, 0, 0, 0, 0, 0, 0, 0, 0, 0, 0, 0] ---- [0, 0, 0, 0, 0, 0, 0, 0, 0, 0, 0, 0, 0, 0, 1, 0, 0, 0, 0, 0, 0, 0, 0, 0, 0, 0, 0, 0, 0, 0]\n",
      "[1, 3, 0, 0, 0, 0, 0, 0, 0, 0, 0] ---- [3, 0, 0, 0, 0, 0, 0, 0, 0, 0, 0]\n",
      "[] ---- []\n",
      "[0, 0, 4, 4, 2, 0, 2, 0, 0, 0, 0, 4, 3, 0, 2, 2, 0, 0, 0, 0, 0] ---- [0, 0, 4, 4, 4, 0, 2, 0, 0, 0, 0, 4, 4, 0, 2, 2, 0, 0, 0, 0, 0]\n",
      "[0, 4, 4, 0, 2, 0, 0] ---- [0, 4, 4, 0, 2, 0, 0]\n",
      "[3, 0, 0, 0, 0, 0, 0, 0, 0] ---- [3, 0, 0, 0, 0, 0, 0, 0, 0]\n",
      "[4, 4, 0, 2, 0, 0, 4, 4, 0, 2, 0, 0, 0, 0, 0, 0, 0, 0, 0] ---- [4, 4, 0, 2, 0, 0, 4, 4, 0, 2, 0, 0, 0, 0, 0, 0, 0, 0, 0]\n",
      "[3, 0, 0, 0, 0, 0, 0, 0] ---- [3, 0, 0, 0, 0, 0, 0, 0]\n",
      "[1, 0, 0, 0, 0, 0, 0, 0, 0, 0, 0, 0, 0, 0, 0, 0, 0, 0, 0, 0, 0, 0] ---- [1, 0, 0, 0, 0, 0, 0, 0, 0, 0, 0, 0, 0, 0, 0, 0, 0, 0, 0, 0, 0, 0]\n",
      "[3, 0, 0, 0, 0, 0, 0, 0, 0] ---- [3, 3, 0, 0, 0, 0, 0, 0, 0]\n",
      "[0, 0, 0, 0, 0, 0, 0, 0, 0, 0, 0, 0, 0, 2, 0, 0, 0] ---- [0, 0, 0, 0, 0, 0, 0, 0, 0, 0, 0, 0, 0, 2, 0, 0, 0]\n",
      "[0, 0, 0, 0, 0, 0, 0, 0, 0, 0, 0, 0, 0, 0, 0, 0, 0, 0, 3, 0, 4, 0, 0, 0, 0, 0, 0, 0, 0, 0, 0, 0, 0, 0, 0, 0, 0, 0] ---- [0, 0, 0, 0, 0, 0, 0, 0, 0, 0, 0, 0, 0, 0, 0, 0, 0, 0, 2, 0, 2, 0, 0, 0, 0, 0, 0, 0, 0, 0, 0, 0, 0, 0, 0, 0, 0, 0]\n",
      "Iteration:  17\n",
      "[4, 0, 0, 0, 0, 0, 0, 0, 0, 0, 0, 0, 0, 0, 3, 0, 0, 0, 0, 0, 0, 0, 0, 0, 0, 0, 0, 0, 0, 0] ---- [0, 0, 0, 0, 0, 0, 0, 0, 0, 0, 0, 0, 0, 0, 1, 0, 0, 0, 0, 0, 0, 0, 0, 0, 0, 0, 0, 0, 0, 0]\n",
      "[1, 2, 2, 1, 0, 0, 0, 0, 0, 0, 0] ---- [3, 0, 0, 0, 0, 0, 0, 0, 0, 0, 0]\n",
      "[] ---- []\n",
      "[0, 0, 4, 4, 2, 0, 2, 0, 0, 0, 0, 2, 2, 0, 2, 2, 0, 0, 0, 0, 0] ---- [0, 0, 4, 4, 4, 0, 2, 0, 0, 0, 0, 4, 4, 0, 2, 2, 0, 0, 0, 0, 0]\n",
      "[0, 4, 4, 0, 2, 0, 0] ---- [0, 4, 4, 0, 2, 0, 0]\n",
      "[3, 0, 0, 0, 0, 0, 0, 0, 0] ---- [3, 0, 0, 0, 0, 0, 0, 0, 0]\n",
      "[4, 4, 0, 2, 0, 0, 4, 4, 0, 2, 0, 0, 0, 0, 0, 0, 0, 0, 0] ---- [4, 4, 0, 2, 0, 0, 4, 4, 0, 2, 0, 0, 0, 0, 0, 0, 0, 0, 0]\n",
      "[3, 0, 0, 0, 0, 0, 0, 0] ---- [3, 0, 0, 0, 0, 0, 0, 0]\n",
      "[1, 0, 0, 0, 0, 0, 0, 0, 0, 0, 0, 0, 0, 0, 0, 0, 0, 0, 0, 0, 0, 0] ---- [1, 0, 0, 0, 0, 0, 0, 0, 0, 0, 0, 0, 0, 0, 0, 0, 0, 0, 0, 0, 0, 0]\n",
      "[3, 0, 0, 0, 0, 0, 0, 0, 0] ---- [3, 3, 0, 0, 0, 0, 0, 0, 0]\n",
      "[0, 0, 0, 0, 0, 0, 0, 0, 0, 0, 0, 0, 0, 2, 0, 0, 0] ---- [0, 0, 0, 0, 0, 0, 0, 0, 0, 0, 0, 0, 0, 2, 0, 0, 0]\n",
      "[0, 0, 0, 0, 0, 0, 0, 0, 0, 0, 0, 0, 0, 0, 0, 0, 0, 0, 3, 0, 2, 0, 0, 0, 0, 0, 0, 0, 0, 0, 0, 0, 0, 0, 0, 0, 0, 0] ---- [0, 0, 0, 0, 0, 0, 0, 0, 0, 0, 0, 0, 0, 0, 0, 0, 0, 0, 2, 0, 2, 0, 0, 0, 0, 0, 0, 0, 0, 0, 0, 0, 0, 0, 0, 0, 0, 0]\n",
      "Iteration:  18\n",
      "[4, 0, 0, 0, 0, 0, 0, 0, 0, 0, 0, 0, 0, 0, 0, 0, 0, 0, 0, 0, 0, 0, 0, 0, 0, 0, 0, 0, 0, 0] ---- [0, 0, 0, 0, 0, 0, 0, 0, 0, 0, 0, 0, 0, 0, 1, 0, 0, 0, 0, 0, 0, 0, 0, 0, 0, 0, 0, 0, 0, 0]\n",
      "[1, 1, 0, 1, 0, 0, 0, 0, 0, 0, 0] ---- [3, 0, 0, 0, 0, 0, 0, 0, 0, 0, 0]\n",
      "[] ---- []\n",
      "[0, 0, 4, 4, 2, 0, 2, 0, 0, 0, 0, 0, 0, 0, 2, 2, 0, 0, 0, 0, 0] ---- [0, 0, 4, 4, 4, 0, 2, 0, 0, 0, 0, 4, 4, 0, 2, 2, 0, 0, 0, 0, 0]\n",
      "[0, 4, 4, 0, 2, 0, 0] ---- [0, 4, 4, 0, 2, 0, 0]\n",
      "[3, 0, 0, 0, 0, 0, 0, 0, 0] ---- [3, 0, 0, 0, 0, 0, 0, 0, 0]\n",
      "[4, 4, 0, 2, 0, 0, 4, 4, 0, 2, 0, 0, 0, 0, 0, 0, 0, 0, 0] ---- [4, 4, 0, 2, 0, 0, 4, 4, 0, 2, 0, 0, 0, 0, 0, 0, 0, 0, 0]\n",
      "[3, 0, 0, 0, 0, 0, 0, 0] ---- [3, 0, 0, 0, 0, 0, 0, 0]\n",
      "[1, 0, 0, 0, 0, 0, 0, 0, 0, 0, 0, 0, 0, 0, 0, 0, 0, 0, 0, 0, 0, 0] ---- [1, 0, 0, 0, 0, 0, 0, 0, 0, 0, 0, 0, 0, 0, 0, 0, 0, 0, 0, 0, 0, 0]\n",
      "[3, 0, 0, 0, 0, 0, 0, 0, 0] ---- [3, 3, 0, 0, 0, 0, 0, 0, 0]\n",
      "[0, 0, 0, 0, 0, 0, 0, 0, 0, 0, 0, 0, 0, 2, 0, 0, 0] ---- [0, 0, 0, 0, 0, 0, 0, 0, 0, 0, 0, 0, 0, 2, 0, 0, 0]\n",
      "[0, 0, 0, 0, 0, 0, 0, 0, 0, 0, 0, 0, 0, 0, 0, 0, 0, 0, 3, 0, 3, 0, 0, 0, 0, 0, 0, 0, 0, 0, 0, 0, 0, 0, 0, 0, 0, 0] ---- [0, 0, 0, 0, 0, 0, 0, 0, 0, 0, 0, 0, 0, 0, 0, 0, 0, 0, 2, 0, 2, 0, 0, 0, 0, 0, 0, 0, 0, 0, 0, 0, 0, 0, 0, 0, 0, 0]\n",
      "Iteration:  19\n",
      "[4, 0, 0, 0, 0, 0, 0, 0, 0, 0, 0, 0, 0, 0, 3, 0, 0, 0, 0, 0, 0, 0, 0, 0, 0, 0, 0, 0, 0, 0] ---- [0, 0, 0, 0, 0, 0, 0, 0, 0, 0, 0, 0, 0, 0, 1, 0, 0, 0, 0, 0, 0, 0, 0, 0, 0, 0, 0, 0, 0, 0]\n",
      "[1, 3, 2, 1, 0, 0, 0, 0, 0, 0, 0] ---- [3, 0, 0, 0, 0, 0, 0, 0, 0, 0, 0]\n",
      "[] ---- []\n",
      "[0, 0, 4, 4, 2, 0, 2, 0, 0, 0, 0, 0, 0, 0, 2, 2, 0, 0, 0, 0, 0] ---- [0, 0, 4, 4, 4, 0, 2, 0, 0, 0, 0, 4, 4, 0, 2, 2, 0, 0, 0, 0, 0]\n",
      "[0, 4, 4, 0, 2, 0, 0] ---- [0, 4, 4, 0, 2, 0, 0]\n",
      "[3, 0, 0, 0, 0, 0, 0, 0, 0] ---- [3, 0, 0, 0, 0, 0, 0, 0, 0]\n",
      "[4, 4, 0, 2, 0, 0, 4, 4, 0, 2, 0, 0, 0, 0, 0, 0, 0, 0, 0] ---- [4, 4, 0, 2, 0, 0, 4, 4, 0, 2, 0, 0, 0, 0, 0, 0, 0, 0, 0]\n",
      "[3, 0, 0, 0, 0, 0, 0, 0] ---- [3, 0, 0, 0, 0, 0, 0, 0]\n",
      "[1, 0, 0, 0, 0, 0, 0, 0, 0, 0, 0, 0, 0, 0, 0, 0, 0, 0, 0, 0, 0, 0] ---- [1, 0, 0, 0, 0, 0, 0, 0, 0, 0, 0, 0, 0, 0, 0, 0, 0, 0, 0, 0, 0, 0]\n",
      "[3, 0, 0, 0, 0, 0, 0, 0, 0] ---- [3, 3, 0, 0, 0, 0, 0, 0, 0]\n"
     ]
    },
    {
     "name": "stdout",
     "output_type": "stream",
     "text": [
      "[0, 0, 0, 0, 0, 0, 0, 0, 0, 0, 0, 0, 0, 2, 0, 0, 0] ---- [0, 0, 0, 0, 0, 0, 0, 0, 0, 0, 0, 0, 0, 2, 0, 0, 0]\n",
      "[0, 0, 0, 0, 0, 0, 0, 0, 0, 0, 0, 0, 0, 0, 0, 0, 0, 0, 3, 0, 4, 0, 0, 0, 0, 0, 0, 0, 0, 0, 0, 0, 0, 0, 0, 0, 0, 0] ---- [0, 0, 0, 0, 0, 0, 0, 0, 0, 0, 0, 0, 0, 0, 0, 0, 0, 0, 2, 0, 2, 0, 0, 0, 0, 0, 0, 0, 0, 0, 0, 0, 0, 0, 0, 0, 0, 0]\n"
     ]
    }
   ],
   "source": [
    "weightss = perceptron_training(train_feature_label, dev_feature_label, 20)"
   ]
  },
  {
   "cell_type": "code",
   "execution_count": 238,
   "metadata": {},
   "outputs": [
    {
     "name": "stderr",
     "output_type": "stream",
     "text": [
      "/home/lilly/anaconda3/lib/python3.6/site-packages/scipy/sparse/compressed.py:746: SparseEfficiencyWarning: Changing the sparsity structure of a csr_matrix is expensive. lil_matrix is more efficient.\n",
      "  SparseEfficiencyWarning)\n"
     ]
    }
   ],
   "source": [
    "test_sentences = read_file_linebyline('conll03_ner/eng.test.small')\n",
    "test_feature_matrix = gen_feature_matrix(test_sentences)"
   ]
  },
  {
   "cell_type": "code",
   "execution_count": 225,
   "metadata": {},
   "outputs": [],
   "source": [
    "# predict on dev/test dataset given its feature matrix and learnt weights, it needs a file path for saving the predictions\n",
    "# in the required format\n",
    "\n",
    "def predict(sentences, feature_matrix, file):\n",
    "    f = open(file, 'w+')\n",
    "    for i in range(len(sentences)):\n",
    "        sentence = sentences[i]\n",
    "        pred_tag_indices = viterbi_decoding(sentences, feature_matrix, i, weightss)\n",
    "        count_tokens = len(sentence)\n",
    "        \n",
    "        if count_tokens > 0:\n",
    "            for j in range(count_tokens):\n",
    "                if len(sentence[j]) == 4:\n",
    "                    line = (sentence[j][0], sentence[j][1], sentence[j][2], sentence[j][3], ner_tags_list[pred_tag_indices[j]])\n",
    "                    ll = ' '.join(line)\n",
    "                    f.write(ll + '\\n')\n",
    "        elif count_tokens == 0:\n",
    "            f.write(\"-DOCSTART- -X- -X- O O\" + '\\n')\n",
    "        f.write(\"\\n\")"
   ]
  },
  {
   "cell_type": "code",
   "execution_count": 239,
   "metadata": {},
   "outputs": [],
   "source": [
    "predict(dev_sentences, dev_feature_matrix, 'output_dev_corrected_20.txt')"
   ]
  },
  {
   "cell_type": "code",
   "execution_count": 241,
   "metadata": {},
   "outputs": [],
   "source": [
    "predict(test_sentences, test_feature_matrix, 'output_test_corrected_20.txt')"
   ]
  },
  {
   "cell_type": "code",
   "execution_count": 232,
   "metadata": {},
   "outputs": [],
   "source": [
    "# get confusion matrix and accuracy for dev/test set \n",
    "def get_confusion_matrix(sentences, feature_matrix, feature_label):\n",
    "    gt_tags = []\n",
    "    pred_tags = []\n",
    "    for i in range(len(sentences)):\n",
    "        sentence = sentences[i]\n",
    "\n",
    "        gt_tag_indices = feature_label[i][1]\n",
    "        gt_tags.append(gt_tag_indices)\n",
    "        pred_tag_indices = viterbi_decoding(sentences, feature_matrix, i, weightss)\n",
    "        count_tokens = len(sentence)\n",
    "        \n",
    "        if count_tokens > 0:\n",
    "            pred_tags.append(pred_tag_indices)\n",
    "        elif count_tokens == 0:\n",
    "            pred_tags.append([])\n",
    "    \n",
    "    ground_truth = [i for j in gt_tags for i in j]\n",
    "    predicted = [i for j in pred_tags for i in j]\n",
    "    \n",
    "    acc = accuracy_score(ground_truth, predicted)\n",
    "    cnf_matrix = confusion_matrix(ground_truth, predicted)\n",
    "    \n",
    "    return acc, cnf_matrix"
   ]
  },
  {
   "cell_type": "code",
   "execution_count": 233,
   "metadata": {},
   "outputs": [],
   "source": [
    "acc, cnf_matrix = get_confusion_matrix(dev_sentences, dev_feature_matrix, dev_feature_label)"
   ]
  },
  {
   "cell_type": "code",
   "execution_count": 234,
   "metadata": {},
   "outputs": [],
   "source": [
    "## function for plotting the confusion matrix\n",
    "import pylab\n",
    "from pylab import rcParams\n",
    "rcParams['figure.figsize'] = 15, 15\n",
    "\n",
    "def plot_confusion_matrix(cm, classes, title, filename):\n",
    "    pylab.clf()\n",
    "    pylab.matshow(cm, fignum=False, cmap='Blues', vmin=0, vmax=1000)\n",
    "    ax = pylab.axes()\n",
    "    ax.set_xticks(range(len(classes)))\n",
    "    ax.set_xticklabels(classes)\n",
    "    ax.xaxis.set_ticks_position(\"bottom\")\n",
    "    ax.set_yticks(range(len(classes)))\n",
    "    ax.set_yticklabels(classes)\n",
    "    pylab.title(title)\n",
    "    pylab.colorbar()\n",
    "    pylab.grid(False)\n",
    "    pylab.xlabel('Predicted class')\n",
    "    pylab.ylabel('Actual Class')\n",
    "    pylab.show()\n",
    "    pylab.savefig(filename)"
   ]
  },
  {
   "cell_type": "code",
   "execution_count": 235,
   "metadata": {},
   "outputs": [
    {
     "name": "stderr",
     "output_type": "stream",
     "text": [
      "/home/lilly/anaconda3/lib/python3.6/site-packages/matplotlib/cbook/deprecation.py:107: MatplotlibDeprecationWarning: Adding an axes using the same arguments as a previous axes currently reuses the earlier instance.  In a future version, a new instance will always be created and returned.  Meanwhile, this warning can be suppressed, and the future behavior ensured, by passing a unique label to each axes instance.\n",
      "  warnings.warn(message, mplDeprecation, stacklevel=1)\n"
     ]
    },
    {
     "data": {
      "image/png": "[encoded data removed]",
      "text/plain": [
       "<Figure size 1080x1080 with 2 Axes>"
      ]
     },
     "metadata": {},
     "output_type": "display_data"
    },
    {
     "data": {
      "text/plain": [
       "<Figure size 1080x1080 with 0 Axes>"
      ]
     },
     "metadata": {},
     "output_type": "display_data"
    }
   ],
   "source": [
    "plot_confusion_matrix(cnf_matrix, ner_tags_list, \"Confusion Matrix on Dev Set\", \"cnf_dev_bg\")"
   ]
  },
  {
   "cell_type": "code",
   "execution_count": 236,
   "metadata": {},
   "outputs": [
    {
     "data": {
      "text/plain": [
       "array([[6075,    4,    3,   13,   39,    0],\n",
       "       [  13,   84,    6,    7,   40,    0],\n",
       "       [  18,    2,  154,   18,  100,    0],\n",
       "       [  54,    5,   26,   48,  159,    0],\n",
       "       [  13,    1,    4,    6,  422,    0],\n",
       "       [   0,    0,    0,    0,    1,    0]])"
      ]
     },
     "execution_count": 236,
     "metadata": {},
     "output_type": "execute_result"
    }
   ],
   "source": [
    "cnf_matrix"
   ]
  },
  {
   "cell_type": "code",
   "execution_count": 237,
   "metadata": {},
   "outputs": [
    {
     "data": {
      "text/plain": [
       "0.9272727272727272"
      ]
     },
     "execution_count": 237,
     "metadata": {},
     "output_type": "execute_result"
    }
   ],
   "source": [
    "acc"
   ]
  },
  {
   "cell_type": "code",
   "execution_count": 255,
   "metadata": {},
   "outputs": [],
   "source": [
    "# # perceptron training on training data, T is the number of iterations\n",
    "\n",
    "# def perceptron_training(train_feature_label, dev_feature_label, T):\n",
    "    \n",
    "#     count = 0\n",
    "#     with open('weights__corrected__18', 'rb') as g1:\n",
    "#         weights = pkl.load(g1)\n",
    "#     print (weights.shape)\n",
    "#     print (weights)\n",
    "#     for i in range(20, T):\n",
    "#         print (\"Iteration: \", i)\n",
    "        \n",
    "#         for j in range(len(train_feature_label.keys())):\n",
    "            \n",
    "#             gt_tag_indices = train_feature_label[j][1]\n",
    "#             gt_feature_vec = train_feature_label[j][0]\n",
    "            \n",
    "#             pred_tag_indices = viterbi_decoding(train_sentences, train_feature_matrix, j, weights)\n",
    "#             pred_feature_vec = get_feature_vector(train_sentences, train_feature_matrix, j, pred_tag_indices)\n",
    "            \n",
    "#             if gt_tag_indices != pred_tag_indices:\n",
    "                \n",
    "#                 weights = weights.reshape((1, len(features_dict.keys())))\n",
    "#                 weights = weights + gt_feature_vec - pred_feature_vec\n",
    "#                 count += 1\n",
    "# #                 print (weightss.shape, \"weights shape\")\n",
    "                \n",
    "#             if j%250 == 0:\n",
    "#                 print (pred_tag_indices, \"----\", gt_tag_indices)\n",
    "                \n",
    "#         if (i%2) == 0:\n",
    "#             with open(\"weights__corrected__\" + str(i), 'wb') as f1:\n",
    "#                 pkl.dump(weights, f1)\n",
    "\n",
    "#     weights /= count\n",
    "#     return weights"
   ]
  },
  {
   "cell_type": "code",
   "execution_count": null,
   "metadata": {},
   "outputs": [],
   "source": [
    "# weights = perceptron_training(train_feature_label, dev_feature_label, 40)"
   ]
  },
  {
   "cell_type": "code",
   "execution_count": 243,
   "metadata": {},
   "outputs": [],
   "source": [
    "# this creates training & validation data for perceptron learning. The outputs are dictionaries containing\n",
    "# feature vector and NER tags for all sentences (train & dev)\n",
    "def create_test_dict(dev_sentences, dev_feature_matrix):\n",
    "    \n",
    "    N = len(ner_tags_list)\n",
    "    dev_feature_label = {}    \n",
    "        \n",
    "    for i in range(len(dev_sentences)):\n",
    "        \n",
    "        gt_labels = []\n",
    "        sentence = dev_sentences[i]\n",
    "        count_tokens = len(sentence)\n",
    "        for token in sentence:\n",
    "            gt_labels.append(ner_tags_list.index(token[3]))\n",
    "            \n",
    "        gt_feature = get_feature_vector(dev_sentences, dev_feature_matrix, i, gt_labels)\n",
    "        dev_feature_label[i] = (gt_feature, gt_labels)\n",
    "        \n",
    "    return dev_feature_label"
   ]
  },
  {
   "cell_type": "code",
   "execution_count": 244,
   "metadata": {},
   "outputs": [],
   "source": [
    "test_feature_label = create_test_dict(test_sentences, test_feature_matrix)"
   ]
  },
  {
   "cell_type": "code",
   "execution_count": 245,
   "metadata": {},
   "outputs": [],
   "source": [
    "acc_test, cnf_matrix_test = get_confusion_matrix(test_sentences, test_feature_matrix, test_feature_label)"
   ]
  },
  {
   "cell_type": "code",
   "execution_count": 246,
   "metadata": {},
   "outputs": [
    {
     "name": "stderr",
     "output_type": "stream",
     "text": [
      "/home/lilly/anaconda3/lib/python3.6/site-packages/matplotlib/cbook/deprecation.py:107: MatplotlibDeprecationWarning: Adding an axes using the same arguments as a previous axes currently reuses the earlier instance.  In a future version, a new instance will always be created and returned.  Meanwhile, this warning can be suppressed, and the future behavior ensured, by passing a unique label to each axes instance.\n",
      "  warnings.warn(message, mplDeprecation, stacklevel=1)\n"
     ]
    },
    {
     "data": {
      "image/png": "[encoded data removed]",
      "text/plain": [
       "<Figure size 1080x1080 with 2 Axes>"
      ]
     },
     "metadata": {},
     "output_type": "display_data"
    },
    {
     "data": {
      "text/plain": [
       "<Figure size 1080x1080 with 0 Axes>"
      ]
     },
     "metadata": {},
     "output_type": "display_data"
    }
   ],
   "source": [
    "plot_confusion_matrix(cnf_matrix_test, ner_tags_list, \"Confusion Matrix on Test Set\", \"cnf_dev_bg\")"
   ]
  },
  {
   "cell_type": "code",
   "execution_count": 257,
   "metadata": {},
   "outputs": [
    {
     "data": {
      "text/plain": [
       "0.8981614708233413"
      ]
     },
     "execution_count": 257,
     "metadata": {},
     "output_type": "execute_result"
    }
   ],
   "source": [
    "acc_test"
   ]
  },
  {
   "cell_type": "code",
   "execution_count": 258,
   "metadata": {},
   "outputs": [
    {
     "data": {
      "text/plain": [
       "array([[5020,    9,   14,   18,   66,    0],\n",
       "       [  10,   62,    5,    6,   55,    0],\n",
       "       [  18,    1,  154,   14,  101,    0],\n",
       "       [  65,    8,   40,   57,  180,    0],\n",
       "       [  14,    1,    3,    5,  325,    0],\n",
       "       [   0,    1,    0,    1,    2,    0]])"
      ]
     },
     "execution_count": 258,
     "metadata": {},
     "output_type": "execute_result"
    }
   ],
   "source": [
    "cnf_matrix_test"
   ]
  }
 ],
 "metadata": {
  "kernelspec": {
   "display_name": "Python 3",
   "language": "python",
   "name": "python3"
  },
  "language_info": {
   "codemirror_mode": {
    "name": "ipython",
    "version": 3
   },
   "file_extension": ".py",
   "mimetype": "text/x-python",
   "name": "python",
   "nbconvert_exporter": "python",
   "pygments_lexer": "ipython3",
   "version": "3.6.4"
  }
 },
 "nbformat": 4,
 "nbformat_minor": 2
}
